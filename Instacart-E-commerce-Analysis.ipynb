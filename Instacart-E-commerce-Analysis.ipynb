{
 "cells": [
  {
   "cell_type": "code",
   "execution_count": 1,
   "id": "84a21a9a-3605-4cb7-bca0-f58ea275ef44",
   "metadata": {},
   "outputs": [],
   "source": [
    "import numpy as py\n",
    "import pandas as pd\n",
    "import matplotlib.pyplot as plt\n",
    "import seaborn as sns"
   ]
  },
  {
   "cell_type": "code",
   "execution_count": 2,
   "id": "8221857d-045a-4f98-9e5f-58df364ea29b",
   "metadata": {},
   "outputs": [],
   "source": [
    "df1 = pd.read_csv(r\"C:\\Users\\Lenovo\\Desktop\\DA\\E commerce\\orders.csv\")\n",
    "df2 = pd.read_csv(r\"C:\\Users\\Lenovo\\Desktop\\DA\\E commerce\\order_products__prior.csv\")\n",
    "df3 = pd.read_csv(r\"C:\\Users\\Lenovo\\Desktop\\DA\\E commerce\\order_products__train.csv\")\n",
    "df4 = pd.read_csv(r\"C:\\Users\\Lenovo\\Desktop\\DA\\E commerce\\products.csv\")\n",
    "df5 = pd.read_csv(r\"C:\\Users\\Lenovo\\Desktop\\DA\\E commerce\\departments.csv\")\n",
    "df6 = pd.read_csv(r\"C:\\Users\\Lenovo\\Desktop\\DA\\E commerce\\aisles.csv\")"
   ]
  },
  {
   "cell_type": "code",
   "execution_count": 3,
   "id": "abd0f014-1790-4bbb-903c-f09b3708deee",
   "metadata": {},
   "outputs": [
    {
     "data": {
      "text/html": [
       "<div>\n",
       "<style scoped>\n",
       "    .dataframe tbody tr th:only-of-type {\n",
       "        vertical-align: middle;\n",
       "    }\n",
       "\n",
       "    .dataframe tbody tr th {\n",
       "        vertical-align: top;\n",
       "    }\n",
       "\n",
       "    .dataframe thead th {\n",
       "        text-align: right;\n",
       "    }\n",
       "</style>\n",
       "<table border=\"1\" class=\"dataframe\">\n",
       "  <thead>\n",
       "    <tr style=\"text-align: right;\">\n",
       "      <th></th>\n",
       "      <th>order_id</th>\n",
       "      <th>user_id</th>\n",
       "      <th>eval_set</th>\n",
       "      <th>order_number</th>\n",
       "      <th>order_dow</th>\n",
       "      <th>order_hour_of_day</th>\n",
       "      <th>days_since_prior_order</th>\n",
       "    </tr>\n",
       "  </thead>\n",
       "  <tbody>\n",
       "    <tr>\n",
       "      <th>0</th>\n",
       "      <td>2539329</td>\n",
       "      <td>1</td>\n",
       "      <td>prior</td>\n",
       "      <td>1</td>\n",
       "      <td>2</td>\n",
       "      <td>8</td>\n",
       "      <td>NaN</td>\n",
       "    </tr>\n",
       "    <tr>\n",
       "      <th>1</th>\n",
       "      <td>2398795</td>\n",
       "      <td>1</td>\n",
       "      <td>prior</td>\n",
       "      <td>2</td>\n",
       "      <td>3</td>\n",
       "      <td>7</td>\n",
       "      <td>15.0</td>\n",
       "    </tr>\n",
       "    <tr>\n",
       "      <th>2</th>\n",
       "      <td>473747</td>\n",
       "      <td>1</td>\n",
       "      <td>prior</td>\n",
       "      <td>3</td>\n",
       "      <td>3</td>\n",
       "      <td>12</td>\n",
       "      <td>21.0</td>\n",
       "    </tr>\n",
       "    <tr>\n",
       "      <th>3</th>\n",
       "      <td>2254736</td>\n",
       "      <td>1</td>\n",
       "      <td>prior</td>\n",
       "      <td>4</td>\n",
       "      <td>4</td>\n",
       "      <td>7</td>\n",
       "      <td>29.0</td>\n",
       "    </tr>\n",
       "    <tr>\n",
       "      <th>4</th>\n",
       "      <td>431534</td>\n",
       "      <td>1</td>\n",
       "      <td>prior</td>\n",
       "      <td>5</td>\n",
       "      <td>4</td>\n",
       "      <td>15</td>\n",
       "      <td>28.0</td>\n",
       "    </tr>\n",
       "  </tbody>\n",
       "</table>\n",
       "</div>"
      ],
      "text/plain": [
       "   order_id  user_id eval_set  order_number  order_dow  order_hour_of_day  \\\n",
       "0   2539329        1    prior             1          2                  8   \n",
       "1   2398795        1    prior             2          3                  7   \n",
       "2    473747        1    prior             3          3                 12   \n",
       "3   2254736        1    prior             4          4                  7   \n",
       "4    431534        1    prior             5          4                 15   \n",
       "\n",
       "   days_since_prior_order  \n",
       "0                     NaN  \n",
       "1                    15.0  \n",
       "2                    21.0  \n",
       "3                    29.0  \n",
       "4                    28.0  "
      ]
     },
     "execution_count": 3,
     "metadata": {},
     "output_type": "execute_result"
    }
   ],
   "source": [
    "df1.head()"
   ]
  },
  {
   "cell_type": "code",
   "execution_count": 4,
   "id": "88aff9c5-465e-433e-9349-cda49cd162cc",
   "metadata": {},
   "outputs": [
    {
     "data": {
      "text/html": [
       "<div>\n",
       "<style scoped>\n",
       "    .dataframe tbody tr th:only-of-type {\n",
       "        vertical-align: middle;\n",
       "    }\n",
       "\n",
       "    .dataframe tbody tr th {\n",
       "        vertical-align: top;\n",
       "    }\n",
       "\n",
       "    .dataframe thead th {\n",
       "        text-align: right;\n",
       "    }\n",
       "</style>\n",
       "<table border=\"1\" class=\"dataframe\">\n",
       "  <thead>\n",
       "    <tr style=\"text-align: right;\">\n",
       "      <th></th>\n",
       "      <th>order_id</th>\n",
       "      <th>product_id</th>\n",
       "      <th>add_to_cart_order</th>\n",
       "      <th>reordered</th>\n",
       "    </tr>\n",
       "  </thead>\n",
       "  <tbody>\n",
       "    <tr>\n",
       "      <th>0</th>\n",
       "      <td>2</td>\n",
       "      <td>33120</td>\n",
       "      <td>1</td>\n",
       "      <td>1</td>\n",
       "    </tr>\n",
       "    <tr>\n",
       "      <th>1</th>\n",
       "      <td>2</td>\n",
       "      <td>28985</td>\n",
       "      <td>2</td>\n",
       "      <td>1</td>\n",
       "    </tr>\n",
       "    <tr>\n",
       "      <th>2</th>\n",
       "      <td>2</td>\n",
       "      <td>9327</td>\n",
       "      <td>3</td>\n",
       "      <td>0</td>\n",
       "    </tr>\n",
       "    <tr>\n",
       "      <th>3</th>\n",
       "      <td>2</td>\n",
       "      <td>45918</td>\n",
       "      <td>4</td>\n",
       "      <td>1</td>\n",
       "    </tr>\n",
       "    <tr>\n",
       "      <th>4</th>\n",
       "      <td>2</td>\n",
       "      <td>30035</td>\n",
       "      <td>5</td>\n",
       "      <td>0</td>\n",
       "    </tr>\n",
       "  </tbody>\n",
       "</table>\n",
       "</div>"
      ],
      "text/plain": [
       "   order_id  product_id  add_to_cart_order  reordered\n",
       "0         2       33120                  1          1\n",
       "1         2       28985                  2          1\n",
       "2         2        9327                  3          0\n",
       "3         2       45918                  4          1\n",
       "4         2       30035                  5          0"
      ]
     },
     "execution_count": 4,
     "metadata": {},
     "output_type": "execute_result"
    }
   ],
   "source": [
    "df2.head()"
   ]
  },
  {
   "cell_type": "code",
   "execution_count": 5,
   "id": "bd19f7dc-a3b3-4380-9f1b-02c1f2e6830c",
   "metadata": {},
   "outputs": [
    {
     "data": {
      "text/html": [
       "<div>\n",
       "<style scoped>\n",
       "    .dataframe tbody tr th:only-of-type {\n",
       "        vertical-align: middle;\n",
       "    }\n",
       "\n",
       "    .dataframe tbody tr th {\n",
       "        vertical-align: top;\n",
       "    }\n",
       "\n",
       "    .dataframe thead th {\n",
       "        text-align: right;\n",
       "    }\n",
       "</style>\n",
       "<table border=\"1\" class=\"dataframe\">\n",
       "  <thead>\n",
       "    <tr style=\"text-align: right;\">\n",
       "      <th></th>\n",
       "      <th>order_id</th>\n",
       "      <th>product_id</th>\n",
       "      <th>add_to_cart_order</th>\n",
       "      <th>reordered</th>\n",
       "    </tr>\n",
       "  </thead>\n",
       "  <tbody>\n",
       "    <tr>\n",
       "      <th>0</th>\n",
       "      <td>1</td>\n",
       "      <td>49302</td>\n",
       "      <td>1</td>\n",
       "      <td>1</td>\n",
       "    </tr>\n",
       "    <tr>\n",
       "      <th>1</th>\n",
       "      <td>1</td>\n",
       "      <td>11109</td>\n",
       "      <td>2</td>\n",
       "      <td>1</td>\n",
       "    </tr>\n",
       "    <tr>\n",
       "      <th>2</th>\n",
       "      <td>1</td>\n",
       "      <td>10246</td>\n",
       "      <td>3</td>\n",
       "      <td>0</td>\n",
       "    </tr>\n",
       "    <tr>\n",
       "      <th>3</th>\n",
       "      <td>1</td>\n",
       "      <td>49683</td>\n",
       "      <td>4</td>\n",
       "      <td>0</td>\n",
       "    </tr>\n",
       "    <tr>\n",
       "      <th>4</th>\n",
       "      <td>1</td>\n",
       "      <td>43633</td>\n",
       "      <td>5</td>\n",
       "      <td>1</td>\n",
       "    </tr>\n",
       "  </tbody>\n",
       "</table>\n",
       "</div>"
      ],
      "text/plain": [
       "   order_id  product_id  add_to_cart_order  reordered\n",
       "0         1       49302                  1          1\n",
       "1         1       11109                  2          1\n",
       "2         1       10246                  3          0\n",
       "3         1       49683                  4          0\n",
       "4         1       43633                  5          1"
      ]
     },
     "execution_count": 5,
     "metadata": {},
     "output_type": "execute_result"
    }
   ],
   "source": [
    "df3.head()"
   ]
  },
  {
   "cell_type": "code",
   "execution_count": 6,
   "id": "57e4bc6f-bfd1-45f4-af70-00273a856a5b",
   "metadata": {},
   "outputs": [
    {
     "data": {
      "text/html": [
       "<div>\n",
       "<style scoped>\n",
       "    .dataframe tbody tr th:only-of-type {\n",
       "        vertical-align: middle;\n",
       "    }\n",
       "\n",
       "    .dataframe tbody tr th {\n",
       "        vertical-align: top;\n",
       "    }\n",
       "\n",
       "    .dataframe thead th {\n",
       "        text-align: right;\n",
       "    }\n",
       "</style>\n",
       "<table border=\"1\" class=\"dataframe\">\n",
       "  <thead>\n",
       "    <tr style=\"text-align: right;\">\n",
       "      <th></th>\n",
       "      <th>product_id</th>\n",
       "      <th>product_name</th>\n",
       "      <th>aisle_id</th>\n",
       "      <th>department_id</th>\n",
       "    </tr>\n",
       "  </thead>\n",
       "  <tbody>\n",
       "    <tr>\n",
       "      <th>0</th>\n",
       "      <td>1</td>\n",
       "      <td>Chocolate Sandwich Cookies</td>\n",
       "      <td>61</td>\n",
       "      <td>19</td>\n",
       "    </tr>\n",
       "    <tr>\n",
       "      <th>1</th>\n",
       "      <td>2</td>\n",
       "      <td>All-Seasons Salt</td>\n",
       "      <td>104</td>\n",
       "      <td>13</td>\n",
       "    </tr>\n",
       "    <tr>\n",
       "      <th>2</th>\n",
       "      <td>3</td>\n",
       "      <td>Robust Golden Unsweetened Oolong Tea</td>\n",
       "      <td>94</td>\n",
       "      <td>7</td>\n",
       "    </tr>\n",
       "    <tr>\n",
       "      <th>3</th>\n",
       "      <td>4</td>\n",
       "      <td>Smart Ones Classic Favorites Mini Rigatoni Wit...</td>\n",
       "      <td>38</td>\n",
       "      <td>1</td>\n",
       "    </tr>\n",
       "    <tr>\n",
       "      <th>4</th>\n",
       "      <td>5</td>\n",
       "      <td>Green Chile Anytime Sauce</td>\n",
       "      <td>5</td>\n",
       "      <td>13</td>\n",
       "    </tr>\n",
       "  </tbody>\n",
       "</table>\n",
       "</div>"
      ],
      "text/plain": [
       "   product_id                                       product_name  aisle_id  \\\n",
       "0           1                         Chocolate Sandwich Cookies        61   \n",
       "1           2                                   All-Seasons Salt       104   \n",
       "2           3               Robust Golden Unsweetened Oolong Tea        94   \n",
       "3           4  Smart Ones Classic Favorites Mini Rigatoni Wit...        38   \n",
       "4           5                          Green Chile Anytime Sauce         5   \n",
       "\n",
       "   department_id  \n",
       "0             19  \n",
       "1             13  \n",
       "2              7  \n",
       "3              1  \n",
       "4             13  "
      ]
     },
     "execution_count": 6,
     "metadata": {},
     "output_type": "execute_result"
    }
   ],
   "source": [
    "df4.head()"
   ]
  },
  {
   "cell_type": "code",
   "execution_count": 7,
   "id": "59a53899-02f6-477f-afeb-df03b4f15e1c",
   "metadata": {},
   "outputs": [
    {
     "data": {
      "text/html": [
       "<div>\n",
       "<style scoped>\n",
       "    .dataframe tbody tr th:only-of-type {\n",
       "        vertical-align: middle;\n",
       "    }\n",
       "\n",
       "    .dataframe tbody tr th {\n",
       "        vertical-align: top;\n",
       "    }\n",
       "\n",
       "    .dataframe thead th {\n",
       "        text-align: right;\n",
       "    }\n",
       "</style>\n",
       "<table border=\"1\" class=\"dataframe\">\n",
       "  <thead>\n",
       "    <tr style=\"text-align: right;\">\n",
       "      <th></th>\n",
       "      <th>department_id</th>\n",
       "      <th>department</th>\n",
       "    </tr>\n",
       "  </thead>\n",
       "  <tbody>\n",
       "    <tr>\n",
       "      <th>0</th>\n",
       "      <td>1</td>\n",
       "      <td>frozen</td>\n",
       "    </tr>\n",
       "    <tr>\n",
       "      <th>1</th>\n",
       "      <td>2</td>\n",
       "      <td>other</td>\n",
       "    </tr>\n",
       "    <tr>\n",
       "      <th>2</th>\n",
       "      <td>3</td>\n",
       "      <td>bakery</td>\n",
       "    </tr>\n",
       "    <tr>\n",
       "      <th>3</th>\n",
       "      <td>4</td>\n",
       "      <td>produce</td>\n",
       "    </tr>\n",
       "    <tr>\n",
       "      <th>4</th>\n",
       "      <td>5</td>\n",
       "      <td>alcohol</td>\n",
       "    </tr>\n",
       "  </tbody>\n",
       "</table>\n",
       "</div>"
      ],
      "text/plain": [
       "   department_id department\n",
       "0              1     frozen\n",
       "1              2      other\n",
       "2              3     bakery\n",
       "3              4    produce\n",
       "4              5    alcohol"
      ]
     },
     "execution_count": 7,
     "metadata": {},
     "output_type": "execute_result"
    }
   ],
   "source": [
    "df5.head()"
   ]
  },
  {
   "cell_type": "code",
   "execution_count": 8,
   "id": "1c5d8b4f-802e-4f30-925b-8cdf3af222e4",
   "metadata": {},
   "outputs": [
    {
     "data": {
      "text/html": [
       "<div>\n",
       "<style scoped>\n",
       "    .dataframe tbody tr th:only-of-type {\n",
       "        vertical-align: middle;\n",
       "    }\n",
       "\n",
       "    .dataframe tbody tr th {\n",
       "        vertical-align: top;\n",
       "    }\n",
       "\n",
       "    .dataframe thead th {\n",
       "        text-align: right;\n",
       "    }\n",
       "</style>\n",
       "<table border=\"1\" class=\"dataframe\">\n",
       "  <thead>\n",
       "    <tr style=\"text-align: right;\">\n",
       "      <th></th>\n",
       "      <th>aisle_id</th>\n",
       "      <th>aisle</th>\n",
       "    </tr>\n",
       "  </thead>\n",
       "  <tbody>\n",
       "    <tr>\n",
       "      <th>0</th>\n",
       "      <td>1</td>\n",
       "      <td>prepared soups salads</td>\n",
       "    </tr>\n",
       "    <tr>\n",
       "      <th>1</th>\n",
       "      <td>2</td>\n",
       "      <td>specialty cheeses</td>\n",
       "    </tr>\n",
       "    <tr>\n",
       "      <th>2</th>\n",
       "      <td>3</td>\n",
       "      <td>energy granola bars</td>\n",
       "    </tr>\n",
       "    <tr>\n",
       "      <th>3</th>\n",
       "      <td>4</td>\n",
       "      <td>instant foods</td>\n",
       "    </tr>\n",
       "    <tr>\n",
       "      <th>4</th>\n",
       "      <td>5</td>\n",
       "      <td>marinades meat preparation</td>\n",
       "    </tr>\n",
       "  </tbody>\n",
       "</table>\n",
       "</div>"
      ],
      "text/plain": [
       "   aisle_id                       aisle\n",
       "0         1       prepared soups salads\n",
       "1         2           specialty cheeses\n",
       "2         3         energy granola bars\n",
       "3         4               instant foods\n",
       "4         5  marinades meat preparation"
      ]
     },
     "execution_count": 8,
     "metadata": {},
     "output_type": "execute_result"
    }
   ],
   "source": [
    "df6.head()"
   ]
  },
  {
   "cell_type": "code",
   "execution_count": 9,
   "id": "f5fb2e86-00f4-4ad4-ad58-305d401344e6",
   "metadata": {},
   "outputs": [
    {
     "data": {
      "text/plain": [
       "(3421083, 7)"
      ]
     },
     "execution_count": 9,
     "metadata": {},
     "output_type": "execute_result"
    }
   ],
   "source": [
    "df1.shape"
   ]
  },
  {
   "cell_type": "code",
   "execution_count": 10,
   "id": "70b1db35-eab6-46c7-9dc1-f0102f068460",
   "metadata": {},
   "outputs": [
    {
     "data": {
      "text/plain": [
       "(32434489, 4)"
      ]
     },
     "execution_count": 10,
     "metadata": {},
     "output_type": "execute_result"
    }
   ],
   "source": [
    "df2.shape"
   ]
  },
  {
   "cell_type": "code",
   "execution_count": 11,
   "id": "dd7862b8-ec45-43b2-ac26-99bbdfe254c2",
   "metadata": {},
   "outputs": [
    {
     "data": {
      "text/plain": [
       "(1384617, 4)"
      ]
     },
     "execution_count": 11,
     "metadata": {},
     "output_type": "execute_result"
    }
   ],
   "source": [
    "df3.shape"
   ]
  },
  {
   "cell_type": "code",
   "execution_count": 12,
   "id": "db4781e6-86d2-4519-b217-e6fadc715297",
   "metadata": {},
   "outputs": [
    {
     "data": {
      "text/plain": [
       "(49688, 4)"
      ]
     },
     "execution_count": 12,
     "metadata": {},
     "output_type": "execute_result"
    }
   ],
   "source": [
    "df4.shape"
   ]
  },
  {
   "cell_type": "code",
   "execution_count": 13,
   "id": "574838e4-84fc-4210-9549-767e729cf12a",
   "metadata": {},
   "outputs": [
    {
     "data": {
      "text/plain": [
       "(21, 2)"
      ]
     },
     "execution_count": 13,
     "metadata": {},
     "output_type": "execute_result"
    }
   ],
   "source": [
    "df5.shape"
   ]
  },
  {
   "cell_type": "code",
   "execution_count": 14,
   "id": "80db0b47-b270-4b0e-9d78-de4c489572a3",
   "metadata": {},
   "outputs": [
    {
     "data": {
      "text/plain": [
       "(134, 2)"
      ]
     },
     "execution_count": 14,
     "metadata": {},
     "output_type": "execute_result"
    }
   ],
   "source": [
    "df6.shape"
   ]
  },
  {
   "cell_type": "code",
   "execution_count": 15,
   "id": "09059962-f14d-4e23-b85e-91c2bf36aadc",
   "metadata": {},
   "outputs": [
    {
     "data": {
      "text/plain": [
       "order_id                       0\n",
       "user_id                        0\n",
       "eval_set                       0\n",
       "order_number                   0\n",
       "order_dow                      0\n",
       "order_hour_of_day              0\n",
       "days_since_prior_order    206209\n",
       "dtype: int64"
      ]
     },
     "execution_count": 15,
     "metadata": {},
     "output_type": "execute_result"
    }
   ],
   "source": [
    "df1.isnull().sum()  # we have a missing values in days_since_prior_order column"
   ]
  },
  {
   "cell_type": "code",
   "execution_count": 16,
   "id": "55d49391-4cfd-418b-ad86-49f76e93d385",
   "metadata": {},
   "outputs": [
    {
     "data": {
      "text/plain": [
       "order_id                    int64\n",
       "user_id                     int64\n",
       "eval_set                   object\n",
       "order_number                int64\n",
       "order_dow                   int64\n",
       "order_hour_of_day           int64\n",
       "days_since_prior_order    float64\n",
       "dtype: object"
      ]
     },
     "execution_count": 16,
     "metadata": {},
     "output_type": "execute_result"
    }
   ],
   "source": [
    "df1.dtypes"
   ]
  },
  {
   "cell_type": "code",
   "execution_count": 17,
   "id": "1c4b7226-211e-4d98-b543-c1521775d72e",
   "metadata": {},
   "outputs": [
    {
     "data": {
      "text/plain": [
       "order_id             0\n",
       "product_id           0\n",
       "add_to_cart_order    0\n",
       "reordered            0\n",
       "dtype: int64"
      ]
     },
     "execution_count": 17,
     "metadata": {},
     "output_type": "execute_result"
    }
   ],
   "source": [
    "df2.isnull().sum()  # no missing value in this dataset"
   ]
  },
  {
   "cell_type": "code",
   "execution_count": 18,
   "id": "c69839a5-ac64-4527-b55b-5737ada905ba",
   "metadata": {},
   "outputs": [
    {
     "data": {
      "text/plain": [
       "order_id             int64\n",
       "product_id           int64\n",
       "add_to_cart_order    int64\n",
       "reordered            int64\n",
       "dtype: object"
      ]
     },
     "execution_count": 18,
     "metadata": {},
     "output_type": "execute_result"
    }
   ],
   "source": [
    "df2.dtypes"
   ]
  },
  {
   "cell_type": "code",
   "execution_count": 19,
   "id": "19b33c0e-0f32-457a-aa19-c30020121dd7",
   "metadata": {},
   "outputs": [
    {
     "data": {
      "text/plain": [
       "order_id             0\n",
       "product_id           0\n",
       "add_to_cart_order    0\n",
       "reordered            0\n",
       "dtype: int64"
      ]
     },
     "execution_count": 19,
     "metadata": {},
     "output_type": "execute_result"
    }
   ],
   "source": [
    "df3.isnull().sum()  # no missing value in this dataset"
   ]
  },
  {
   "cell_type": "code",
   "execution_count": 20,
   "id": "c910ebcb-efa7-4f4f-9320-116ece12d4fd",
   "metadata": {},
   "outputs": [
    {
     "data": {
      "text/plain": [
       "order_id             int64\n",
       "product_id           int64\n",
       "add_to_cart_order    int64\n",
       "reordered            int64\n",
       "dtype: object"
      ]
     },
     "execution_count": 20,
     "metadata": {},
     "output_type": "execute_result"
    }
   ],
   "source": [
    "df3.dtypes"
   ]
  },
  {
   "cell_type": "code",
   "execution_count": 21,
   "id": "6e6d4c80-8c2d-451f-bf7f-78c3cc7b0e21",
   "metadata": {},
   "outputs": [
    {
     "data": {
      "text/plain": [
       "product_id       0\n",
       "product_name     0\n",
       "aisle_id         0\n",
       "department_id    0\n",
       "dtype: int64"
      ]
     },
     "execution_count": 21,
     "metadata": {},
     "output_type": "execute_result"
    }
   ],
   "source": [
    "df4.isnull().sum()  # no missing value in this dataset"
   ]
  },
  {
   "cell_type": "code",
   "execution_count": 22,
   "id": "5962ab74-4138-4996-be9f-d15ff1cd9813",
   "metadata": {},
   "outputs": [
    {
     "data": {
      "text/plain": [
       "product_id        int64\n",
       "product_name     object\n",
       "aisle_id          int64\n",
       "department_id     int64\n",
       "dtype: object"
      ]
     },
     "execution_count": 22,
     "metadata": {},
     "output_type": "execute_result"
    }
   ],
   "source": [
    "df4.dtypes"
   ]
  },
  {
   "cell_type": "code",
   "execution_count": 23,
   "id": "ea7f4686-07d3-4d88-a922-77b5d26f8f35",
   "metadata": {},
   "outputs": [
    {
     "data": {
      "text/plain": [
       "department_id    0\n",
       "department       0\n",
       "dtype: int64"
      ]
     },
     "execution_count": 23,
     "metadata": {},
     "output_type": "execute_result"
    }
   ],
   "source": [
    "df5.isnull().sum()  # no missing value in this dataset"
   ]
  },
  {
   "cell_type": "code",
   "execution_count": 24,
   "id": "2a116f96-82f0-43a5-a46e-58505d5857c0",
   "metadata": {},
   "outputs": [
    {
     "data": {
      "text/plain": [
       "department_id     int64\n",
       "department       object\n",
       "dtype: object"
      ]
     },
     "execution_count": 24,
     "metadata": {},
     "output_type": "execute_result"
    }
   ],
   "source": [
    "df5.dtypes"
   ]
  },
  {
   "cell_type": "code",
   "execution_count": 25,
   "id": "7c9265d0-f40c-4ebc-9fbb-d77738007fcf",
   "metadata": {},
   "outputs": [
    {
     "data": {
      "text/plain": [
       "aisle_id    0\n",
       "aisle       0\n",
       "dtype: int64"
      ]
     },
     "execution_count": 25,
     "metadata": {},
     "output_type": "execute_result"
    }
   ],
   "source": [
    "df6.isnull().sum()  # no missing value in this dataset"
   ]
  },
  {
   "cell_type": "code",
   "execution_count": 26,
   "id": "1351e848-be76-4cd1-981a-887f5e933475",
   "metadata": {},
   "outputs": [
    {
     "data": {
      "text/plain": [
       "aisle_id     int64\n",
       "aisle       object\n",
       "dtype: object"
      ]
     },
     "execution_count": 26,
     "metadata": {},
     "output_type": "execute_result"
    }
   ],
   "source": [
    "df6.dtypes"
   ]
  },
  {
   "cell_type": "markdown",
   "id": "130a80db-267a-41f5-9031-479c07554228",
   "metadata": {},
   "source": [
    "**HANDLING MISSING VALUES IN DF1**"
   ]
  },
  {
   "cell_type": "code",
   "execution_count": 28,
   "id": "8dc35190-7da4-4b1f-96e4-70da66b67bf9",
   "metadata": {},
   "outputs": [
    {
     "data": {
      "text/plain": [
       "206209"
      ]
     },
     "execution_count": 28,
     "metadata": {},
     "output_type": "execute_result"
    }
   ],
   "source": [
    "df1['days_since_prior_order'].isnull().sum()"
   ]
  },
  {
   "cell_type": "markdown",
   "id": "aea56646-3bc4-48bb-bbaa-d8b794360317",
   "metadata": {},
   "source": [
    "These are the first orders of users—there is no “previous” order to compare.\n",
    "\n",
    "So the missing value isn’t an error, it actually means something: it’s the user’s first order"
   ]
  },
  {
   "cell_type": "markdown",
   "id": "eb603d17-be84-4838-b4c2-1b70212d6eba",
   "metadata": {},
   "source": [
    "**FILL WITH 0**"
   ]
  },
  {
   "cell_type": "code",
   "execution_count": 256,
   "id": "55e1695b-f1cc-4222-871e-c2a15c5bfbbc",
   "metadata": {},
   "outputs": [],
   "source": [
    "df1['first_order'] = df1['days_since_prior_order'].isnull().astype(int)\n",
    "df1['days_since_prior_order'].fillna(0, inplace=True)"
   ]
  },
  {
   "cell_type": "markdown",
   "id": "4f729110-12fa-4e58-8f18-4a815855a2d4",
   "metadata": {},
   "source": [
    "**Exploratory Data Analysis**"
   ]
  },
  {
   "cell_type": "markdown",
   "id": "5be2bb29-bb0b-4018-b8c2-f2bdd4068142",
   "metadata": {},
   "source": [
    "**Orders Table**"
   ]
  },
  {
   "cell_type": "code",
   "execution_count": 34,
   "id": "fa8068b8-89c9-45b9-9e09-71f926f42eaf",
   "metadata": {},
   "outputs": [
    {
     "data": {
      "text/html": [
       "<div>\n",
       "<style scoped>\n",
       "    .dataframe tbody tr th:only-of-type {\n",
       "        vertical-align: middle;\n",
       "    }\n",
       "\n",
       "    .dataframe tbody tr th {\n",
       "        vertical-align: top;\n",
       "    }\n",
       "\n",
       "    .dataframe thead th {\n",
       "        text-align: right;\n",
       "    }\n",
       "</style>\n",
       "<table border=\"1\" class=\"dataframe\">\n",
       "  <thead>\n",
       "    <tr style=\"text-align: right;\">\n",
       "      <th></th>\n",
       "      <th>order_id</th>\n",
       "      <th>user_id</th>\n",
       "      <th>eval_set</th>\n",
       "      <th>order_number</th>\n",
       "      <th>order_dow</th>\n",
       "      <th>order_hour_of_day</th>\n",
       "      <th>days_since_prior_order</th>\n",
       "      <th>first_order</th>\n",
       "    </tr>\n",
       "  </thead>\n",
       "  <tbody>\n",
       "    <tr>\n",
       "      <th>0</th>\n",
       "      <td>2539329</td>\n",
       "      <td>1</td>\n",
       "      <td>prior</td>\n",
       "      <td>1</td>\n",
       "      <td>2</td>\n",
       "      <td>8</td>\n",
       "      <td>0.0</td>\n",
       "      <td>1</td>\n",
       "    </tr>\n",
       "    <tr>\n",
       "      <th>1</th>\n",
       "      <td>2398795</td>\n",
       "      <td>1</td>\n",
       "      <td>prior</td>\n",
       "      <td>2</td>\n",
       "      <td>3</td>\n",
       "      <td>7</td>\n",
       "      <td>15.0</td>\n",
       "      <td>0</td>\n",
       "    </tr>\n",
       "    <tr>\n",
       "      <th>2</th>\n",
       "      <td>473747</td>\n",
       "      <td>1</td>\n",
       "      <td>prior</td>\n",
       "      <td>3</td>\n",
       "      <td>3</td>\n",
       "      <td>12</td>\n",
       "      <td>21.0</td>\n",
       "      <td>0</td>\n",
       "    </tr>\n",
       "    <tr>\n",
       "      <th>3</th>\n",
       "      <td>2254736</td>\n",
       "      <td>1</td>\n",
       "      <td>prior</td>\n",
       "      <td>4</td>\n",
       "      <td>4</td>\n",
       "      <td>7</td>\n",
       "      <td>29.0</td>\n",
       "      <td>0</td>\n",
       "    </tr>\n",
       "    <tr>\n",
       "      <th>4</th>\n",
       "      <td>431534</td>\n",
       "      <td>1</td>\n",
       "      <td>prior</td>\n",
       "      <td>5</td>\n",
       "      <td>4</td>\n",
       "      <td>15</td>\n",
       "      <td>28.0</td>\n",
       "      <td>0</td>\n",
       "    </tr>\n",
       "  </tbody>\n",
       "</table>\n",
       "</div>"
      ],
      "text/plain": [
       "   order_id  user_id eval_set  order_number  order_dow  order_hour_of_day  \\\n",
       "0   2539329        1    prior             1          2                  8   \n",
       "1   2398795        1    prior             2          3                  7   \n",
       "2    473747        1    prior             3          3                 12   \n",
       "3   2254736        1    prior             4          4                  7   \n",
       "4    431534        1    prior             5          4                 15   \n",
       "\n",
       "   days_since_prior_order  first_order  \n",
       "0                     0.0            1  \n",
       "1                    15.0            0  \n",
       "2                    21.0            0  \n",
       "3                    29.0            0  \n",
       "4                    28.0            0  "
      ]
     },
     "execution_count": 34,
     "metadata": {},
     "output_type": "execute_result"
    }
   ],
   "source": [
    "df1.head()"
   ]
  },
  {
   "cell_type": "code",
   "execution_count": 35,
   "id": "f7ab54cc-5b2b-4154-b504-73286d329795",
   "metadata": {},
   "outputs": [
    {
     "data": {
      "text/plain": [
       "order_dow\n",
       "0    600905\n",
       "1    587478\n",
       "2    467260\n",
       "5    453368\n",
       "6    448761\n",
       "3    436972\n",
       "4    426339\n",
       "Name: count, dtype: int64"
      ]
     },
     "execution_count": 35,
     "metadata": {},
     "output_type": "execute_result"
    }
   ],
   "source": [
    "df1['order_dow'].value_counts().sort_values(ascending=False)"
   ]
  },
  {
   "cell_type": "markdown",
   "id": "568571c3-5069-496e-861f-c0cdb92f311f",
   "metadata": {},
   "source": [
    "**ORDER PER USER**"
   ]
  },
  {
   "cell_type": "code",
   "execution_count": 37,
   "id": "f51eb694-2ae9-4883-b212-250d52bd8439",
   "metadata": {},
   "outputs": [],
   "source": [
    "orders_per_user = df1.groupby('user_id')['order_number'].max().reset_index()"
   ]
  },
  {
   "cell_type": "markdown",
   "id": "7e2c3714-33a1-4a2d-a731-46d9f345f54a",
   "metadata": {},
   "source": [
    "**using max() Because order_number increases with every order for that user, the max value = total orders placed by the user.**"
   ]
  },
  {
   "cell_type": "code",
   "execution_count": 39,
   "id": "2f2534a0-7c1d-448d-a848-69ceb4559e7b",
   "metadata": {},
   "outputs": [],
   "source": [
    "orders_per_user.columns = ['user_id','total_orders']"
   ]
  },
  {
   "cell_type": "code",
   "execution_count": 40,
   "id": "3e949536-ee98-4aee-9895-dfa8c57b877c",
   "metadata": {},
   "outputs": [
    {
     "data": {
      "text/html": [
       "<div>\n",
       "<style scoped>\n",
       "    .dataframe tbody tr th:only-of-type {\n",
       "        vertical-align: middle;\n",
       "    }\n",
       "\n",
       "    .dataframe tbody tr th {\n",
       "        vertical-align: top;\n",
       "    }\n",
       "\n",
       "    .dataframe thead th {\n",
       "        text-align: right;\n",
       "    }\n",
       "</style>\n",
       "<table border=\"1\" class=\"dataframe\">\n",
       "  <thead>\n",
       "    <tr style=\"text-align: right;\">\n",
       "      <th></th>\n",
       "      <th>user_id</th>\n",
       "      <th>total_orders</th>\n",
       "    </tr>\n",
       "  </thead>\n",
       "  <tbody>\n",
       "    <tr>\n",
       "      <th>0</th>\n",
       "      <td>1</td>\n",
       "      <td>11</td>\n",
       "    </tr>\n",
       "    <tr>\n",
       "      <th>1</th>\n",
       "      <td>2</td>\n",
       "      <td>15</td>\n",
       "    </tr>\n",
       "    <tr>\n",
       "      <th>2</th>\n",
       "      <td>3</td>\n",
       "      <td>13</td>\n",
       "    </tr>\n",
       "    <tr>\n",
       "      <th>3</th>\n",
       "      <td>4</td>\n",
       "      <td>6</td>\n",
       "    </tr>\n",
       "    <tr>\n",
       "      <th>4</th>\n",
       "      <td>5</td>\n",
       "      <td>5</td>\n",
       "    </tr>\n",
       "  </tbody>\n",
       "</table>\n",
       "</div>"
      ],
      "text/plain": [
       "   user_id  total_orders\n",
       "0        1            11\n",
       "1        2            15\n",
       "2        3            13\n",
       "3        4             6\n",
       "4        5             5"
      ]
     },
     "execution_count": 40,
     "metadata": {},
     "output_type": "execute_result"
    }
   ],
   "source": [
    "orders_per_user.head()"
   ]
  },
  {
   "cell_type": "code",
   "execution_count": 41,
   "id": "b3489c7c-bb13-4887-84a8-7c9d8a408763",
   "metadata": {},
   "outputs": [
    {
     "data": {
      "image/png": "[encoded data removed]",
      "text/plain": [
       "<Figure size 640x480 with 1 Axes>"
      ]
     },
     "metadata": {},
     "output_type": "display_data"
    }
   ],
   "source": [
    "sns.histplot(orders_per_user['total_orders'], bins=30, kde=True)\n",
    "plt.title('Distribution of Orders per User')\n",
    "plt.xlabel('Total Orders')\n",
    "plt.ylabel('Number of Users')\n",
    "plt.show()"
   ]
  },
  {
   "cell_type": "markdown",
   "id": "eeaec176-17b9-4489-8223-1c896a3dad87",
   "metadata": {},
   "source": [
    "**INSIGHT**"
   ]
  },
  {
   "cell_type": "markdown",
   "id": "f3566569-f275-4f83-8a8d-db3f02033e7e",
   "metadata": {},
   "source": [
    "Users with just 1–3 orders might be new or churned.\n",
    "\n",
    "Users with 50+ orders are loyal → maybe send them offers or target for upsells."
   ]
  },
  {
   "cell_type": "code",
   "execution_count": 44,
   "id": "b08a7b5d-c9f1-4766-99a8-64d4cd5f778c",
   "metadata": {},
   "outputs": [
    {
     "data": {
      "text/html": [
       "<div>\n",
       "<style scoped>\n",
       "    .dataframe tbody tr th:only-of-type {\n",
       "        vertical-align: middle;\n",
       "    }\n",
       "\n",
       "    .dataframe tbody tr th {\n",
       "        vertical-align: top;\n",
       "    }\n",
       "\n",
       "    .dataframe thead th {\n",
       "        text-align: right;\n",
       "    }\n",
       "</style>\n",
       "<table border=\"1\" class=\"dataframe\">\n",
       "  <thead>\n",
       "    <tr style=\"text-align: right;\">\n",
       "      <th></th>\n",
       "      <th>order_id</th>\n",
       "      <th>user_id</th>\n",
       "      <th>eval_set</th>\n",
       "      <th>order_number</th>\n",
       "      <th>order_dow</th>\n",
       "      <th>order_hour_of_day</th>\n",
       "      <th>days_since_prior_order</th>\n",
       "      <th>first_order</th>\n",
       "    </tr>\n",
       "  </thead>\n",
       "  <tbody>\n",
       "    <tr>\n",
       "      <th>0</th>\n",
       "      <td>2539329</td>\n",
       "      <td>1</td>\n",
       "      <td>prior</td>\n",
       "      <td>1</td>\n",
       "      <td>2</td>\n",
       "      <td>8</td>\n",
       "      <td>0.0</td>\n",
       "      <td>1</td>\n",
       "    </tr>\n",
       "    <tr>\n",
       "      <th>1</th>\n",
       "      <td>2398795</td>\n",
       "      <td>1</td>\n",
       "      <td>prior</td>\n",
       "      <td>2</td>\n",
       "      <td>3</td>\n",
       "      <td>7</td>\n",
       "      <td>15.0</td>\n",
       "      <td>0</td>\n",
       "    </tr>\n",
       "    <tr>\n",
       "      <th>2</th>\n",
       "      <td>473747</td>\n",
       "      <td>1</td>\n",
       "      <td>prior</td>\n",
       "      <td>3</td>\n",
       "      <td>3</td>\n",
       "      <td>12</td>\n",
       "      <td>21.0</td>\n",
       "      <td>0</td>\n",
       "    </tr>\n",
       "    <tr>\n",
       "      <th>3</th>\n",
       "      <td>2254736</td>\n",
       "      <td>1</td>\n",
       "      <td>prior</td>\n",
       "      <td>4</td>\n",
       "      <td>4</td>\n",
       "      <td>7</td>\n",
       "      <td>29.0</td>\n",
       "      <td>0</td>\n",
       "    </tr>\n",
       "    <tr>\n",
       "      <th>4</th>\n",
       "      <td>431534</td>\n",
       "      <td>1</td>\n",
       "      <td>prior</td>\n",
       "      <td>5</td>\n",
       "      <td>4</td>\n",
       "      <td>15</td>\n",
       "      <td>28.0</td>\n",
       "      <td>0</td>\n",
       "    </tr>\n",
       "    <tr>\n",
       "      <th>...</th>\n",
       "      <td>...</td>\n",
       "      <td>...</td>\n",
       "      <td>...</td>\n",
       "      <td>...</td>\n",
       "      <td>...</td>\n",
       "      <td>...</td>\n",
       "      <td>...</td>\n",
       "      <td>...</td>\n",
       "    </tr>\n",
       "    <tr>\n",
       "      <th>3421078</th>\n",
       "      <td>2266710</td>\n",
       "      <td>206209</td>\n",
       "      <td>prior</td>\n",
       "      <td>10</td>\n",
       "      <td>5</td>\n",
       "      <td>18</td>\n",
       "      <td>29.0</td>\n",
       "      <td>0</td>\n",
       "    </tr>\n",
       "    <tr>\n",
       "      <th>3421079</th>\n",
       "      <td>1854736</td>\n",
       "      <td>206209</td>\n",
       "      <td>prior</td>\n",
       "      <td>11</td>\n",
       "      <td>4</td>\n",
       "      <td>10</td>\n",
       "      <td>30.0</td>\n",
       "      <td>0</td>\n",
       "    </tr>\n",
       "    <tr>\n",
       "      <th>3421080</th>\n",
       "      <td>626363</td>\n",
       "      <td>206209</td>\n",
       "      <td>prior</td>\n",
       "      <td>12</td>\n",
       "      <td>1</td>\n",
       "      <td>12</td>\n",
       "      <td>18.0</td>\n",
       "      <td>0</td>\n",
       "    </tr>\n",
       "    <tr>\n",
       "      <th>3421081</th>\n",
       "      <td>2977660</td>\n",
       "      <td>206209</td>\n",
       "      <td>prior</td>\n",
       "      <td>13</td>\n",
       "      <td>1</td>\n",
       "      <td>12</td>\n",
       "      <td>7.0</td>\n",
       "      <td>0</td>\n",
       "    </tr>\n",
       "    <tr>\n",
       "      <th>3421082</th>\n",
       "      <td>272231</td>\n",
       "      <td>206209</td>\n",
       "      <td>train</td>\n",
       "      <td>14</td>\n",
       "      <td>6</td>\n",
       "      <td>14</td>\n",
       "      <td>30.0</td>\n",
       "      <td>0</td>\n",
       "    </tr>\n",
       "  </tbody>\n",
       "</table>\n",
       "<p>3421083 rows × 8 columns</p>\n",
       "</div>"
      ],
      "text/plain": [
       "         order_id  user_id eval_set  order_number  order_dow  \\\n",
       "0         2539329        1    prior             1          2   \n",
       "1         2398795        1    prior             2          3   \n",
       "2          473747        1    prior             3          3   \n",
       "3         2254736        1    prior             4          4   \n",
       "4          431534        1    prior             5          4   \n",
       "...           ...      ...      ...           ...        ...   \n",
       "3421078   2266710   206209    prior            10          5   \n",
       "3421079   1854736   206209    prior            11          4   \n",
       "3421080    626363   206209    prior            12          1   \n",
       "3421081   2977660   206209    prior            13          1   \n",
       "3421082    272231   206209    train            14          6   \n",
       "\n",
       "         order_hour_of_day  days_since_prior_order  first_order  \n",
       "0                        8                     0.0            1  \n",
       "1                        7                    15.0            0  \n",
       "2                       12                    21.0            0  \n",
       "3                        7                    29.0            0  \n",
       "4                       15                    28.0            0  \n",
       "...                    ...                     ...          ...  \n",
       "3421078                 18                    29.0            0  \n",
       "3421079                 10                    30.0            0  \n",
       "3421080                 12                    18.0            0  \n",
       "3421081                 12                     7.0            0  \n",
       "3421082                 14                    30.0            0  \n",
       "\n",
       "[3421083 rows x 8 columns]"
      ]
     },
     "execution_count": 44,
     "metadata": {},
     "output_type": "execute_result"
    }
   ],
   "source": [
    "df1"
   ]
  },
  {
   "cell_type": "code",
   "execution_count": 45,
   "id": "e7dbe4b8-fa98-47c2-b65a-734db7bd29f4",
   "metadata": {},
   "outputs": [
    {
     "data": {
      "text/plain": [
       "first_order\n",
       "0    3214874\n",
       "1     206209\n",
       "Name: count, dtype: int64"
      ]
     },
     "execution_count": 45,
     "metadata": {},
     "output_type": "execute_result"
    }
   ],
   "source": [
    "df1['first_order'].value_counts()"
   ]
  },
  {
   "cell_type": "markdown",
   "id": "877a9f61-c7ed-4de3-ae1d-041fd5e579fc",
   "metadata": {},
   "source": [
    "**Percentage of Users Who Reorder**"
   ]
  },
  {
   "cell_type": "code",
   "execution_count": 47,
   "id": "4c9280cd-eb5d-4f48-a531-fd6e642e7a09",
   "metadata": {},
   "outputs": [],
   "source": [
    "# Join orders with prior order data\n",
    "merge_orders = df1.merge(df2, on='order_id')"
   ]
  },
  {
   "cell_type": "code",
   "execution_count": 48,
   "id": "0b793f34-8953-4418-9ba5-cf8f6ca62329",
   "metadata": {},
   "outputs": [],
   "source": [
    "# Group by user, count how many reordered items they have\n",
    "reorder_stats = merge_orders.groupby('user_id')['reordered'].sum().reset_index()"
   ]
  },
  {
   "cell_type": "code",
   "execution_count": 49,
   "id": "c37f78b1-0b1e-44c4-bd9b-f6954b60834e",
   "metadata": {},
   "outputs": [],
   "source": [
    "reorder_stats['reordered_flag'] = reorder_stats['reordered'] > 0"
   ]
  },
  {
   "cell_type": "code",
   "execution_count": 50,
   "id": "e5ced625-3432-4ee3-bded-372f29437cde",
   "metadata": {},
   "outputs": [],
   "source": [
    "# Percentage of users who reordered at least once\n",
    "percentage_reorder_users = round(reorder_stats['reordered_flag'].mean()*100,2)"
   ]
  },
  {
   "cell_type": "code",
   "execution_count": 51,
   "id": "22ea31d3-e76e-45f9-8974-7030c1d39df3",
   "metadata": {},
   "outputs": [
    {
     "data": {
      "text/plain": [
       "98.52"
      ]
     },
     "execution_count": 51,
     "metadata": {},
     "output_type": "execute_result"
    }
   ],
   "source": [
    "percentage_reorder_users"
   ]
  },
  {
   "cell_type": "markdown",
   "id": "bc366540-2058-46cc-8538-7b554bc6c844",
   "metadata": {},
   "source": [
    "**Average Days Between Orders Per User**"
   ]
  },
  {
   "cell_type": "code",
   "execution_count": 53,
   "id": "e4483568-1750-4149-86d4-659506766408",
   "metadata": {},
   "outputs": [
    {
     "data": {
      "text/html": [
       "<div>\n",
       "<style scoped>\n",
       "    .dataframe tbody tr th:only-of-type {\n",
       "        vertical-align: middle;\n",
       "    }\n",
       "\n",
       "    .dataframe tbody tr th {\n",
       "        vertical-align: top;\n",
       "    }\n",
       "\n",
       "    .dataframe thead th {\n",
       "        text-align: right;\n",
       "    }\n",
       "</style>\n",
       "<table border=\"1\" class=\"dataframe\">\n",
       "  <thead>\n",
       "    <tr style=\"text-align: right;\">\n",
       "      <th></th>\n",
       "      <th>order_id</th>\n",
       "      <th>user_id</th>\n",
       "      <th>eval_set</th>\n",
       "      <th>order_number</th>\n",
       "      <th>order_dow</th>\n",
       "      <th>order_hour_of_day</th>\n",
       "      <th>days_since_prior_order</th>\n",
       "      <th>first_order</th>\n",
       "    </tr>\n",
       "  </thead>\n",
       "  <tbody>\n",
       "    <tr>\n",
       "      <th>0</th>\n",
       "      <td>2539329</td>\n",
       "      <td>1</td>\n",
       "      <td>prior</td>\n",
       "      <td>1</td>\n",
       "      <td>2</td>\n",
       "      <td>8</td>\n",
       "      <td>0.0</td>\n",
       "      <td>1</td>\n",
       "    </tr>\n",
       "    <tr>\n",
       "      <th>1</th>\n",
       "      <td>2398795</td>\n",
       "      <td>1</td>\n",
       "      <td>prior</td>\n",
       "      <td>2</td>\n",
       "      <td>3</td>\n",
       "      <td>7</td>\n",
       "      <td>15.0</td>\n",
       "      <td>0</td>\n",
       "    </tr>\n",
       "    <tr>\n",
       "      <th>2</th>\n",
       "      <td>473747</td>\n",
       "      <td>1</td>\n",
       "      <td>prior</td>\n",
       "      <td>3</td>\n",
       "      <td>3</td>\n",
       "      <td>12</td>\n",
       "      <td>21.0</td>\n",
       "      <td>0</td>\n",
       "    </tr>\n",
       "    <tr>\n",
       "      <th>3</th>\n",
       "      <td>2254736</td>\n",
       "      <td>1</td>\n",
       "      <td>prior</td>\n",
       "      <td>4</td>\n",
       "      <td>4</td>\n",
       "      <td>7</td>\n",
       "      <td>29.0</td>\n",
       "      <td>0</td>\n",
       "    </tr>\n",
       "    <tr>\n",
       "      <th>4</th>\n",
       "      <td>431534</td>\n",
       "      <td>1</td>\n",
       "      <td>prior</td>\n",
       "      <td>5</td>\n",
       "      <td>4</td>\n",
       "      <td>15</td>\n",
       "      <td>28.0</td>\n",
       "      <td>0</td>\n",
       "    </tr>\n",
       "    <tr>\n",
       "      <th>...</th>\n",
       "      <td>...</td>\n",
       "      <td>...</td>\n",
       "      <td>...</td>\n",
       "      <td>...</td>\n",
       "      <td>...</td>\n",
       "      <td>...</td>\n",
       "      <td>...</td>\n",
       "      <td>...</td>\n",
       "    </tr>\n",
       "    <tr>\n",
       "      <th>3421078</th>\n",
       "      <td>2266710</td>\n",
       "      <td>206209</td>\n",
       "      <td>prior</td>\n",
       "      <td>10</td>\n",
       "      <td>5</td>\n",
       "      <td>18</td>\n",
       "      <td>29.0</td>\n",
       "      <td>0</td>\n",
       "    </tr>\n",
       "    <tr>\n",
       "      <th>3421079</th>\n",
       "      <td>1854736</td>\n",
       "      <td>206209</td>\n",
       "      <td>prior</td>\n",
       "      <td>11</td>\n",
       "      <td>4</td>\n",
       "      <td>10</td>\n",
       "      <td>30.0</td>\n",
       "      <td>0</td>\n",
       "    </tr>\n",
       "    <tr>\n",
       "      <th>3421080</th>\n",
       "      <td>626363</td>\n",
       "      <td>206209</td>\n",
       "      <td>prior</td>\n",
       "      <td>12</td>\n",
       "      <td>1</td>\n",
       "      <td>12</td>\n",
       "      <td>18.0</td>\n",
       "      <td>0</td>\n",
       "    </tr>\n",
       "    <tr>\n",
       "      <th>3421081</th>\n",
       "      <td>2977660</td>\n",
       "      <td>206209</td>\n",
       "      <td>prior</td>\n",
       "      <td>13</td>\n",
       "      <td>1</td>\n",
       "      <td>12</td>\n",
       "      <td>7.0</td>\n",
       "      <td>0</td>\n",
       "    </tr>\n",
       "    <tr>\n",
       "      <th>3421082</th>\n",
       "      <td>272231</td>\n",
       "      <td>206209</td>\n",
       "      <td>train</td>\n",
       "      <td>14</td>\n",
       "      <td>6</td>\n",
       "      <td>14</td>\n",
       "      <td>30.0</td>\n",
       "      <td>0</td>\n",
       "    </tr>\n",
       "  </tbody>\n",
       "</table>\n",
       "<p>3421083 rows × 8 columns</p>\n",
       "</div>"
      ],
      "text/plain": [
       "         order_id  user_id eval_set  order_number  order_dow  \\\n",
       "0         2539329        1    prior             1          2   \n",
       "1         2398795        1    prior             2          3   \n",
       "2          473747        1    prior             3          3   \n",
       "3         2254736        1    prior             4          4   \n",
       "4          431534        1    prior             5          4   \n",
       "...           ...      ...      ...           ...        ...   \n",
       "3421078   2266710   206209    prior            10          5   \n",
       "3421079   1854736   206209    prior            11          4   \n",
       "3421080    626363   206209    prior            12          1   \n",
       "3421081   2977660   206209    prior            13          1   \n",
       "3421082    272231   206209    train            14          6   \n",
       "\n",
       "         order_hour_of_day  days_since_prior_order  first_order  \n",
       "0                        8                     0.0            1  \n",
       "1                        7                    15.0            0  \n",
       "2                       12                    21.0            0  \n",
       "3                        7                    29.0            0  \n",
       "4                       15                    28.0            0  \n",
       "...                    ...                     ...          ...  \n",
       "3421078                 18                    29.0            0  \n",
       "3421079                 10                    30.0            0  \n",
       "3421080                 12                    18.0            0  \n",
       "3421081                 12                     7.0            0  \n",
       "3421082                 14                    30.0            0  \n",
       "\n",
       "[3421083 rows x 8 columns]"
      ]
     },
     "execution_count": 53,
     "metadata": {},
     "output_type": "execute_result"
    }
   ],
   "source": [
    "df1"
   ]
  },
  {
   "cell_type": "code",
   "execution_count": 54,
   "id": "165d9c1a-8570-4f1c-ae32-707fa00e2ba8",
   "metadata": {},
   "outputs": [],
   "source": [
    "avg_day_per_user = df1.groupby('user_id')['days_since_prior_order'].mean().reset_index()"
   ]
  },
  {
   "cell_type": "code",
   "execution_count": 55,
   "id": "db693a18-b1ab-4742-b14d-cd8c1caf383b",
   "metadata": {},
   "outputs": [],
   "source": [
    "avg_day_per_user.columns = ['user_id','avg_days_between_orders']"
   ]
  },
  {
   "cell_type": "code",
   "execution_count": 56,
   "id": "6f5ea707-c9ad-4bd2-93c6-afb061dc5816",
   "metadata": {},
   "outputs": [
    {
     "data": {
      "text/html": [
       "<div>\n",
       "<style scoped>\n",
       "    .dataframe tbody tr th:only-of-type {\n",
       "        vertical-align: middle;\n",
       "    }\n",
       "\n",
       "    .dataframe tbody tr th {\n",
       "        vertical-align: top;\n",
       "    }\n",
       "\n",
       "    .dataframe thead th {\n",
       "        text-align: right;\n",
       "    }\n",
       "</style>\n",
       "<table border=\"1\" class=\"dataframe\">\n",
       "  <thead>\n",
       "    <tr style=\"text-align: right;\">\n",
       "      <th></th>\n",
       "      <th>user_id</th>\n",
       "      <th>avg_days_between_orders</th>\n",
       "    </tr>\n",
       "  </thead>\n",
       "  <tbody>\n",
       "    <tr>\n",
       "      <th>0</th>\n",
       "      <td>1</td>\n",
       "      <td>17.272727</td>\n",
       "    </tr>\n",
       "    <tr>\n",
       "      <th>1</th>\n",
       "      <td>2</td>\n",
       "      <td>15.200000</td>\n",
       "    </tr>\n",
       "    <tr>\n",
       "      <th>2</th>\n",
       "      <td>3</td>\n",
       "      <td>11.076923</td>\n",
       "    </tr>\n",
       "    <tr>\n",
       "      <th>3</th>\n",
       "      <td>4</td>\n",
       "      <td>14.166667</td>\n",
       "    </tr>\n",
       "    <tr>\n",
       "      <th>4</th>\n",
       "      <td>5</td>\n",
       "      <td>9.200000</td>\n",
       "    </tr>\n",
       "  </tbody>\n",
       "</table>\n",
       "</div>"
      ],
      "text/plain": [
       "   user_id  avg_days_between_orders\n",
       "0        1                17.272727\n",
       "1        2                15.200000\n",
       "2        3                11.076923\n",
       "3        4                14.166667\n",
       "4        5                 9.200000"
      ]
     },
     "execution_count": 56,
     "metadata": {},
     "output_type": "execute_result"
    }
   ],
   "source": [
    "avg_day_per_user.head()"
   ]
  },
  {
   "cell_type": "code",
   "execution_count": 57,
   "id": "b7281956-9398-49d2-ab98-bdaae7396130",
   "metadata": {},
   "outputs": [
    {
     "data": {
      "image/png": "[encoded data removed]",
      "text/plain": [
       "<Figure size 640x480 with 1 Axes>"
      ]
     },
     "metadata": {},
     "output_type": "display_data"
    }
   ],
   "source": [
    "sns.histplot(avg_day_per_user['avg_days_between_orders'], bins=30, kde=True)\n",
    "plt.title('Average Days Between Orders per User')\n",
    "plt.xlabel('Avg Days Between Orders')\n",
    "plt.ylabel('Number of Users')\n",
    "plt.show()"
   ]
  },
  {
   "cell_type": "markdown",
   "id": "3e40163d-4465-4476-a5d4-5417fd83f09c",
   "metadata": {},
   "source": [
    "**Orders by Day of Week and Hour**"
   ]
  },
  {
   "cell_type": "code",
   "execution_count": 59,
   "id": "c4736397-2f4e-4620-84e9-d7f31cbf4f9e",
   "metadata": {},
   "outputs": [],
   "source": [
    "heat_map = df1.groupby(['order_dow','order_hour_of_day'])['order_id'].count().unstack()"
   ]
  },
  {
   "cell_type": "code",
   "execution_count": 60,
   "id": "7ebf5628-bbea-46e9-8291-7f9b8f8416e4",
   "metadata": {},
   "outputs": [
    {
     "data": {
      "text/html": [
       "<div>\n",
       "<style scoped>\n",
       "    .dataframe tbody tr th:only-of-type {\n",
       "        vertical-align: middle;\n",
       "    }\n",
       "\n",
       "    .dataframe tbody tr th {\n",
       "        vertical-align: top;\n",
       "    }\n",
       "\n",
       "    .dataframe thead th {\n",
       "        text-align: right;\n",
       "    }\n",
       "</style>\n",
       "<table border=\"1\" class=\"dataframe\">\n",
       "  <thead>\n",
       "    <tr style=\"text-align: right;\">\n",
       "      <th>order_hour_of_day</th>\n",
       "      <th>0</th>\n",
       "      <th>1</th>\n",
       "      <th>2</th>\n",
       "      <th>3</th>\n",
       "      <th>4</th>\n",
       "      <th>5</th>\n",
       "      <th>6</th>\n",
       "      <th>7</th>\n",
       "      <th>8</th>\n",
       "      <th>9</th>\n",
       "      <th>...</th>\n",
       "      <th>14</th>\n",
       "      <th>15</th>\n",
       "      <th>16</th>\n",
       "      <th>17</th>\n",
       "      <th>18</th>\n",
       "      <th>19</th>\n",
       "      <th>20</th>\n",
       "      <th>21</th>\n",
       "      <th>22</th>\n",
       "      <th>23</th>\n",
       "    </tr>\n",
       "    <tr>\n",
       "      <th>order_dow</th>\n",
       "      <th></th>\n",
       "      <th></th>\n",
       "      <th></th>\n",
       "      <th></th>\n",
       "      <th></th>\n",
       "      <th></th>\n",
       "      <th></th>\n",
       "      <th></th>\n",
       "      <th></th>\n",
       "      <th></th>\n",
       "      <th></th>\n",
       "      <th></th>\n",
       "      <th></th>\n",
       "      <th></th>\n",
       "      <th></th>\n",
       "      <th></th>\n",
       "      <th></th>\n",
       "      <th></th>\n",
       "      <th></th>\n",
       "      <th></th>\n",
       "      <th></th>\n",
       "    </tr>\n",
       "  </thead>\n",
       "  <tbody>\n",
       "    <tr>\n",
       "      <th>0</th>\n",
       "      <td>3936</td>\n",
       "      <td>2398</td>\n",
       "      <td>1409</td>\n",
       "      <td>963</td>\n",
       "      <td>813</td>\n",
       "      <td>1168</td>\n",
       "      <td>3329</td>\n",
       "      <td>12410</td>\n",
       "      <td>28108</td>\n",
       "      <td>40798</td>\n",
       "      <td>...</td>\n",
       "      <td>54552</td>\n",
       "      <td>53954</td>\n",
       "      <td>49463</td>\n",
       "      <td>39753</td>\n",
       "      <td>29572</td>\n",
       "      <td>22654</td>\n",
       "      <td>18277</td>\n",
       "      <td>14423</td>\n",
       "      <td>11246</td>\n",
       "      <td>6887</td>\n",
       "    </tr>\n",
       "    <tr>\n",
       "      <th>1</th>\n",
       "      <td>3674</td>\n",
       "      <td>1830</td>\n",
       "      <td>1105</td>\n",
       "      <td>748</td>\n",
       "      <td>809</td>\n",
       "      <td>1607</td>\n",
       "      <td>5370</td>\n",
       "      <td>16571</td>\n",
       "      <td>34116</td>\n",
       "      <td>51908</td>\n",
       "      <td>...</td>\n",
       "      <td>46764</td>\n",
       "      <td>46403</td>\n",
       "      <td>44761</td>\n",
       "      <td>36792</td>\n",
       "      <td>28977</td>\n",
       "      <td>22145</td>\n",
       "      <td>16281</td>\n",
       "      <td>11943</td>\n",
       "      <td>8992</td>\n",
       "      <td>5620</td>\n",
       "    </tr>\n",
       "    <tr>\n",
       "      <th>2</th>\n",
       "      <td>3059</td>\n",
       "      <td>1572</td>\n",
       "      <td>943</td>\n",
       "      <td>719</td>\n",
       "      <td>744</td>\n",
       "      <td>1399</td>\n",
       "      <td>4758</td>\n",
       "      <td>13245</td>\n",
       "      <td>24635</td>\n",
       "      <td>36314</td>\n",
       "      <td>...</td>\n",
       "      <td>37173</td>\n",
       "      <td>37469</td>\n",
       "      <td>37541</td>\n",
       "      <td>32151</td>\n",
       "      <td>26470</td>\n",
       "      <td>20084</td>\n",
       "      <td>15039</td>\n",
       "      <td>10653</td>\n",
       "      <td>8146</td>\n",
       "      <td>5358</td>\n",
       "    </tr>\n",
       "    <tr>\n",
       "      <th>3</th>\n",
       "      <td>2952</td>\n",
       "      <td>1495</td>\n",
       "      <td>953</td>\n",
       "      <td>654</td>\n",
       "      <td>719</td>\n",
       "      <td>1355</td>\n",
       "      <td>4562</td>\n",
       "      <td>12396</td>\n",
       "      <td>22553</td>\n",
       "      <td>32312</td>\n",
       "      <td>...</td>\n",
       "      <td>34773</td>\n",
       "      <td>35990</td>\n",
       "      <td>35273</td>\n",
       "      <td>30368</td>\n",
       "      <td>25001</td>\n",
       "      <td>19249</td>\n",
       "      <td>13795</td>\n",
       "      <td>10278</td>\n",
       "      <td>8242</td>\n",
       "      <td>5181</td>\n",
       "    </tr>\n",
       "    <tr>\n",
       "      <th>4</th>\n",
       "      <td>2642</td>\n",
       "      <td>1512</td>\n",
       "      <td>899</td>\n",
       "      <td>686</td>\n",
       "      <td>730</td>\n",
       "      <td>1330</td>\n",
       "      <td>4401</td>\n",
       "      <td>12493</td>\n",
       "      <td>21814</td>\n",
       "      <td>31409</td>\n",
       "      <td>...</td>\n",
       "      <td>33625</td>\n",
       "      <td>34222</td>\n",
       "      <td>34093</td>\n",
       "      <td>29378</td>\n",
       "      <td>24425</td>\n",
       "      <td>19350</td>\n",
       "      <td>14186</td>\n",
       "      <td>10796</td>\n",
       "      <td>8812</td>\n",
       "      <td>5645</td>\n",
       "    </tr>\n",
       "    <tr>\n",
       "      <th>5</th>\n",
       "      <td>3189</td>\n",
       "      <td>1672</td>\n",
       "      <td>1016</td>\n",
       "      <td>841</td>\n",
       "      <td>910</td>\n",
       "      <td>1574</td>\n",
       "      <td>4866</td>\n",
       "      <td>13434</td>\n",
       "      <td>24015</td>\n",
       "      <td>34232</td>\n",
       "      <td>...</td>\n",
       "      <td>37407</td>\n",
       "      <td>37508</td>\n",
       "      <td>35860</td>\n",
       "      <td>29955</td>\n",
       "      <td>24310</td>\n",
       "      <td>18741</td>\n",
       "      <td>13322</td>\n",
       "      <td>9515</td>\n",
       "      <td>7498</td>\n",
       "      <td>5265</td>\n",
       "    </tr>\n",
       "    <tr>\n",
       "      <th>6</th>\n",
       "      <td>3306</td>\n",
       "      <td>1919</td>\n",
       "      <td>1214</td>\n",
       "      <td>863</td>\n",
       "      <td>802</td>\n",
       "      <td>1136</td>\n",
       "      <td>3243</td>\n",
       "      <td>11319</td>\n",
       "      <td>22960</td>\n",
       "      <td>30839</td>\n",
       "      <td>...</td>\n",
       "      <td>38748</td>\n",
       "      <td>38093</td>\n",
       "      <td>35562</td>\n",
       "      <td>30398</td>\n",
       "      <td>24157</td>\n",
       "      <td>18346</td>\n",
       "      <td>13392</td>\n",
       "      <td>10501</td>\n",
       "      <td>8532</td>\n",
       "      <td>6087</td>\n",
       "    </tr>\n",
       "  </tbody>\n",
       "</table>\n",
       "<p>7 rows × 24 columns</p>\n",
       "</div>"
      ],
      "text/plain": [
       "order_hour_of_day    0     1     2    3    4     5     6      7      8   \\\n",
       "order_dow                                                                 \n",
       "0                  3936  2398  1409  963  813  1168  3329  12410  28108   \n",
       "1                  3674  1830  1105  748  809  1607  5370  16571  34116   \n",
       "2                  3059  1572   943  719  744  1399  4758  13245  24635   \n",
       "3                  2952  1495   953  654  719  1355  4562  12396  22553   \n",
       "4                  2642  1512   899  686  730  1330  4401  12493  21814   \n",
       "5                  3189  1672  1016  841  910  1574  4866  13434  24015   \n",
       "6                  3306  1919  1214  863  802  1136  3243  11319  22960   \n",
       "\n",
       "order_hour_of_day     9   ...     14     15     16     17     18     19  \\\n",
       "order_dow                 ...                                             \n",
       "0                  40798  ...  54552  53954  49463  39753  29572  22654   \n",
       "1                  51908  ...  46764  46403  44761  36792  28977  22145   \n",
       "2                  36314  ...  37173  37469  37541  32151  26470  20084   \n",
       "3                  32312  ...  34773  35990  35273  30368  25001  19249   \n",
       "4                  31409  ...  33625  34222  34093  29378  24425  19350   \n",
       "5                  34232  ...  37407  37508  35860  29955  24310  18741   \n",
       "6                  30839  ...  38748  38093  35562  30398  24157  18346   \n",
       "\n",
       "order_hour_of_day     20     21     22    23  \n",
       "order_dow                                     \n",
       "0                  18277  14423  11246  6887  \n",
       "1                  16281  11943   8992  5620  \n",
       "2                  15039  10653   8146  5358  \n",
       "3                  13795  10278   8242  5181  \n",
       "4                  14186  10796   8812  5645  \n",
       "5                  13322   9515   7498  5265  \n",
       "6                  13392  10501   8532  6087  \n",
       "\n",
       "[7 rows x 24 columns]"
      ]
     },
     "execution_count": 60,
     "metadata": {},
     "output_type": "execute_result"
    }
   ],
   "source": [
    "heat_map"
   ]
  },
  {
   "cell_type": "code",
   "execution_count": 61,
   "id": "9c85634c-1f05-4792-b3d2-53ad0aa67b23",
   "metadata": {},
   "outputs": [
    {
     "data": {
      "image/png": "[encoded data removed]",
      "text/plain": [
       "<Figure size 1200x600 with 2 Axes>"
      ]
     },
     "metadata": {},
     "output_type": "display_data"
    }
   ],
   "source": [
    "plt.figure(figsize=(12,6))\n",
    "\n",
    "sns.heatmap(heat_map,cmap='YlGnBu')\n",
    "plt.title('Orders by Day of Week and Hour of Day')\n",
    "plt.xlabel('Hour of Day')\n",
    "plt.ylabel('Day of Week (0=Sun, 6=Sat)')\n",
    "plt.show()"
   ]
  },
  {
   "cell_type": "markdown",
   "id": "46b91892-4bfa-400b-a3ba-7a47e206b391",
   "metadata": {},
   "source": [
    "**Users by Loyalty Tier (Bonus Idea)**"
   ]
  },
  {
   "cell_type": "code",
   "execution_count": 63,
   "id": "f6905a25-d65f-4223-953d-8dfb049e074d",
   "metadata": {},
   "outputs": [],
   "source": [
    "def loyalty_tier(x):\n",
    "    if x <=5:\n",
    "        return 'New'\n",
    "    elif x<=15:\n",
    "        return 'Active'\n",
    "    else:\n",
    "        return 'Loyal'    "
   ]
  },
  {
   "cell_type": "code",
   "execution_count": 64,
   "id": "5135f816-236d-4d39-9160-bc69f0a596c7",
   "metadata": {},
   "outputs": [],
   "source": [
    "orders_per_user['loyalty'] = orders_per_user['total_orders'].apply(loyalty_tier)"
   ]
  },
  {
   "cell_type": "code",
   "execution_count": 65,
   "id": "15327dc4-ab8e-4dea-9f03-0931a129afe1",
   "metadata": {},
   "outputs": [
    {
     "data": {
      "image/png": "[encoded data removed]",
      "text/plain": [
       "<Figure size 640x480 with 1 Axes>"
      ]
     },
     "metadata": {},
     "output_type": "display_data"
    }
   ],
   "source": [
    "sns.countplot(data=orders_per_user, x='loyalty', order=['New', 'Active', 'Loyal'],hue='loyalty')\n",
    "plt.title('User Loyalty Segments')\n",
    "plt.xlabel('Loyalty Tier')\n",
    "plt.ylabel('Number of Users')\n",
    "plt.show()"
   ]
  },
  {
   "cell_type": "markdown",
   "id": "41aa9272-75fe-48ed-afa3-ca764ab20207",
   "metadata": {},
   "source": [
    "**Products Analysis**"
   ]
  },
  {
   "cell_type": "markdown",
   "id": "346d2763-62ef-4e2c-b1b4-366014d3262f",
   "metadata": {},
   "source": [
    "**Most Popular Products**"
   ]
  },
  {
   "cell_type": "code",
   "execution_count": 68,
   "id": "55e197f3-0acc-4195-854c-ee36fd448e38",
   "metadata": {},
   "outputs": [],
   "source": [
    "# Count how many times each product_id appears in prior orders\n",
    "\n",
    "popular_products = df3['product_id'].value_counts().reset_index()"
   ]
  },
  {
   "cell_type": "code",
   "execution_count": 69,
   "id": "73a39fbb-4a55-43dc-9ff1-684d6754717d",
   "metadata": {},
   "outputs": [],
   "source": [
    "popular_products.columns = ['product_id','order_counts']"
   ]
  },
  {
   "cell_type": "code",
   "execution_count": 70,
   "id": "f0067495-04f6-4a21-8758-b6a869969cca",
   "metadata": {},
   "outputs": [],
   "source": [
    "# Merge with product names\n",
    "popular_products = popular_products.merge(df4[['product_id','product_name']],on='product_id')"
   ]
  },
  {
   "cell_type": "code",
   "execution_count": 135,
   "id": "ddd7dc72-6528-4c6a-936f-a5b1ee6b5e04",
   "metadata": {},
   "outputs": [
    {
     "data": {
      "text/html": [
       "<div>\n",
       "<style scoped>\n",
       "    .dataframe tbody tr th:only-of-type {\n",
       "        vertical-align: middle;\n",
       "    }\n",
       "\n",
       "    .dataframe tbody tr th {\n",
       "        vertical-align: top;\n",
       "    }\n",
       "\n",
       "    .dataframe thead th {\n",
       "        text-align: right;\n",
       "    }\n",
       "</style>\n",
       "<table border=\"1\" class=\"dataframe\">\n",
       "  <thead>\n",
       "    <tr style=\"text-align: right;\">\n",
       "      <th></th>\n",
       "      <th>product_id</th>\n",
       "      <th>order_counts</th>\n",
       "      <th>product_name</th>\n",
       "    </tr>\n",
       "  </thead>\n",
       "  <tbody>\n",
       "    <tr>\n",
       "      <th>0</th>\n",
       "      <td>24852</td>\n",
       "      <td>18726</td>\n",
       "      <td>Banana</td>\n",
       "    </tr>\n",
       "    <tr>\n",
       "      <th>1</th>\n",
       "      <td>13176</td>\n",
       "      <td>15480</td>\n",
       "      <td>Bag of Organic Bananas</td>\n",
       "    </tr>\n",
       "    <tr>\n",
       "      <th>2</th>\n",
       "      <td>21137</td>\n",
       "      <td>10894</td>\n",
       "      <td>Organic Strawberries</td>\n",
       "    </tr>\n",
       "    <tr>\n",
       "      <th>3</th>\n",
       "      <td>21903</td>\n",
       "      <td>9784</td>\n",
       "      <td>Organic Baby Spinach</td>\n",
       "    </tr>\n",
       "    <tr>\n",
       "      <th>4</th>\n",
       "      <td>47626</td>\n",
       "      <td>8135</td>\n",
       "      <td>Large Lemon</td>\n",
       "    </tr>\n",
       "    <tr>\n",
       "      <th>5</th>\n",
       "      <td>47766</td>\n",
       "      <td>7409</td>\n",
       "      <td>Organic Avocado</td>\n",
       "    </tr>\n",
       "    <tr>\n",
       "      <th>6</th>\n",
       "      <td>47209</td>\n",
       "      <td>7293</td>\n",
       "      <td>Organic Hass Avocado</td>\n",
       "    </tr>\n",
       "    <tr>\n",
       "      <th>7</th>\n",
       "      <td>16797</td>\n",
       "      <td>6494</td>\n",
       "      <td>Strawberries</td>\n",
       "    </tr>\n",
       "    <tr>\n",
       "      <th>8</th>\n",
       "      <td>26209</td>\n",
       "      <td>6033</td>\n",
       "      <td>Limes</td>\n",
       "    </tr>\n",
       "    <tr>\n",
       "      <th>9</th>\n",
       "      <td>27966</td>\n",
       "      <td>5546</td>\n",
       "      <td>Organic Raspberries</td>\n",
       "    </tr>\n",
       "  </tbody>\n",
       "</table>\n",
       "</div>"
      ],
      "text/plain": [
       "   product_id  order_counts            product_name\n",
       "0       24852         18726                  Banana\n",
       "1       13176         15480  Bag of Organic Bananas\n",
       "2       21137         10894    Organic Strawberries\n",
       "3       21903          9784    Organic Baby Spinach\n",
       "4       47626          8135             Large Lemon\n",
       "5       47766          7409         Organic Avocado\n",
       "6       47209          7293    Organic Hass Avocado\n",
       "7       16797          6494            Strawberries\n",
       "8       26209          6033                   Limes\n",
       "9       27966          5546     Organic Raspberries"
      ]
     },
     "execution_count": 135,
     "metadata": {},
     "output_type": "execute_result"
    }
   ],
   "source": [
    "popular_products.head(10)"
   ]
  },
  {
   "cell_type": "code",
   "execution_count": 141,
   "id": "ae8a6658-f938-4403-9cd2-f50b44239d19",
   "metadata": {},
   "outputs": [
    {
     "data": {
      "image/png": "[encoded data removed]",
      "text/plain": [
       "<Figure size 640x480 with 1 Axes>"
      ]
     },
     "metadata": {},
     "output_type": "display_data"
    }
   ],
   "source": [
    "top_10 = popular_products.head(10)\n",
    "sns.barplot(data=top_10, y='product_name', x='order_counts', palette='viridis')\n",
    "plt.title('Top 10 Most Popular Products')\n",
    "plt.xlabel('Order Count')\n",
    "plt.ylabel('Product Name')\n",
    "plt.show()"
   ]
  },
  {
   "cell_type": "code",
   "execution_count": 139,
   "id": "18245ee5-209e-4da0-842c-334280bc6c19",
   "metadata": {},
   "outputs": [],
   "source": [
    "import warnings\n",
    "warnings.filterwarnings('ignore')"
   ]
  },
  {
   "cell_type": "markdown",
   "id": "24346519-7b30-4b7a-923a-50f2fdc31bd7",
   "metadata": {},
   "source": [
    "**Most Reordered Products**"
   ]
  },
  {
   "cell_type": "code",
   "execution_count": 143,
   "id": "7b5c454b-2e2f-4a63-a141-96c41440dd57",
   "metadata": {},
   "outputs": [
    {
     "data": {
      "text/html": [
       "<div>\n",
       "<style scoped>\n",
       "    .dataframe tbody tr th:only-of-type {\n",
       "        vertical-align: middle;\n",
       "    }\n",
       "\n",
       "    .dataframe tbody tr th {\n",
       "        vertical-align: top;\n",
       "    }\n",
       "\n",
       "    .dataframe thead th {\n",
       "        text-align: right;\n",
       "    }\n",
       "</style>\n",
       "<table border=\"1\" class=\"dataframe\">\n",
       "  <thead>\n",
       "    <tr style=\"text-align: right;\">\n",
       "      <th></th>\n",
       "      <th>product_id</th>\n",
       "      <th>reorder_rate</th>\n",
       "      <th>product_name</th>\n",
       "    </tr>\n",
       "  </thead>\n",
       "  <tbody>\n",
       "    <tr>\n",
       "      <th>19561</th>\n",
       "      <td>24836</td>\n",
       "      <td>1.0</td>\n",
       "      <td>Cat Litter, Scoopable, Scented</td>\n",
       "    </tr>\n",
       "    <tr>\n",
       "      <th>5283</th>\n",
       "      <td>6708</td>\n",
       "      <td>1.0</td>\n",
       "      <td>Orange Navel</td>\n",
       "    </tr>\n",
       "    <tr>\n",
       "      <th>23610</th>\n",
       "      <td>29977</td>\n",
       "      <td>1.0</td>\n",
       "      <td>Bacon Style Slices</td>\n",
       "    </tr>\n",
       "    <tr>\n",
       "      <th>23618</th>\n",
       "      <td>29988</td>\n",
       "      <td>1.0</td>\n",
       "      <td>Chocolate Granola Bars</td>\n",
       "    </tr>\n",
       "    <tr>\n",
       "      <th>23628</th>\n",
       "      <td>30002</td>\n",
       "      <td>1.0</td>\n",
       "      <td>Antioxidant Blend Frozen Smoothie</td>\n",
       "    </tr>\n",
       "    <tr>\n",
       "      <th>5312</th>\n",
       "      <td>6743</td>\n",
       "      <td>1.0</td>\n",
       "      <td>Original Oven Roasted Turkey</td>\n",
       "    </tr>\n",
       "    <tr>\n",
       "      <th>23636</th>\n",
       "      <td>30012</td>\n",
       "      <td>1.0</td>\n",
       "      <td>Gentlease Infant Formula for Fussiness, Gas, a...</td>\n",
       "    </tr>\n",
       "    <tr>\n",
       "      <th>23639</th>\n",
       "      <td>30015</td>\n",
       "      <td>1.0</td>\n",
       "      <td>Rich &amp; Creamy Mocha Coffee Beverage</td>\n",
       "    </tr>\n",
       "    <tr>\n",
       "      <th>23642</th>\n",
       "      <td>30018</td>\n",
       "      <td>1.0</td>\n",
       "      <td>Prime Filets Turkey Dinner In Gravy</td>\n",
       "    </tr>\n",
       "    <tr>\n",
       "      <th>5307</th>\n",
       "      <td>6737</td>\n",
       "      <td>1.0</td>\n",
       "      <td>Chocolate Creme Cake</td>\n",
       "    </tr>\n",
       "  </tbody>\n",
       "</table>\n",
       "</div>"
      ],
      "text/plain": [
       "       product_id  reorder_rate  \\\n",
       "19561       24836           1.0   \n",
       "5283         6708           1.0   \n",
       "23610       29977           1.0   \n",
       "23618       29988           1.0   \n",
       "23628       30002           1.0   \n",
       "5312         6743           1.0   \n",
       "23636       30012           1.0   \n",
       "23639       30015           1.0   \n",
       "23642       30018           1.0   \n",
       "5307         6737           1.0   \n",
       "\n",
       "                                            product_name  \n",
       "19561                     Cat Litter, Scoopable, Scented  \n",
       "5283                                        Orange Navel  \n",
       "23610                                 Bacon Style Slices  \n",
       "23618                             Chocolate Granola Bars  \n",
       "23628                  Antioxidant Blend Frozen Smoothie  \n",
       "5312                        Original Oven Roasted Turkey  \n",
       "23636  Gentlease Infant Formula for Fussiness, Gas, a...  \n",
       "23639                Rich & Creamy Mocha Coffee Beverage  \n",
       "23642                Prime Filets Turkey Dinner In Gravy  \n",
       "5307                                Chocolate Creme Cake  "
      ]
     },
     "execution_count": 143,
     "metadata": {},
     "output_type": "execute_result"
    }
   ],
   "source": [
    "# Group by product and calculate reorder ratio\n",
    "reorder_ratio = df3.groupby('product_id')['reordered'].mean().reset_index()\n",
    "reorder_ratio.columns = ['product_id', 'reorder_rate']\n",
    "\n",
    "# Merge with product names\n",
    "reorder_ratio = reorder_ratio.merge(df4[['product_id', 'product_name']], on='product_id')\n",
    "\n",
    "# Sort and show top 10\n",
    "top_reordered = reorder_ratio.sort_values('reorder_rate', ascending=False).head(10)\n",
    "top_reordered\n"
   ]
  },
  {
   "cell_type": "code",
   "execution_count": 76,
   "id": "2b6be97e-579a-498e-872a-d6f596a33512",
   "metadata": {},
   "outputs": [
    {
     "data": {
      "image/png": "[encoded data removed]",
      "text/plain": [
       "<Figure size 640x480 with 1 Axes>"
      ]
     },
     "metadata": {},
     "output_type": "display_data"
    }
   ],
   "source": [
    "sns.barplot(data=top_reordered, y='product_name', x='reorder_rate', palette='mako')\n",
    "plt.title('Top 10 Most Reordered Products')\n",
    "plt.xlabel('Reorder Rate')\n",
    "plt.ylabel('Product')\n",
    "plt.show()\n"
   ]
  },
  {
   "cell_type": "markdown",
   "id": "7c9fb7c2-1459-4ae5-bc93-e57ed2cbde2f",
   "metadata": {},
   "source": [
    "**Top Departments and Aisles**"
   ]
  },
  {
   "cell_type": "code",
   "execution_count": 147,
   "id": "bafce2ed-7a84-466d-9cf2-036d99a37b04",
   "metadata": {},
   "outputs": [],
   "source": [
    "# Merge prior orders with products\n",
    "merged = df3.merge(df4, on='product_id', how='left')\n",
    "merged = merged.merge(df5, on='department_id', how='left')\n",
    "merged = merged.merge(df6, on='aisle_id', how='left')\n"
   ]
  },
  {
   "cell_type": "markdown",
   "id": "27f9ebfb-c626-4ac3-904d-f9439d1d5e3e",
   "metadata": {},
   "source": [
    "**TOP DEPARTMENTS**"
   ]
  },
  {
   "cell_type": "code",
   "execution_count": 150,
   "id": "3e1b5174-5f0c-4ebd-b0d0-c7c20236e602",
   "metadata": {},
   "outputs": [
    {
     "data": {
      "text/html": [
       "<div>\n",
       "<style scoped>\n",
       "    .dataframe tbody tr th:only-of-type {\n",
       "        vertical-align: middle;\n",
       "    }\n",
       "\n",
       "    .dataframe tbody tr th {\n",
       "        vertical-align: top;\n",
       "    }\n",
       "\n",
       "    .dataframe thead th {\n",
       "        text-align: right;\n",
       "    }\n",
       "</style>\n",
       "<table border=\"1\" class=\"dataframe\">\n",
       "  <thead>\n",
       "    <tr style=\"text-align: right;\">\n",
       "      <th></th>\n",
       "      <th>department</th>\n",
       "      <th>order_count</th>\n",
       "    </tr>\n",
       "  </thead>\n",
       "  <tbody>\n",
       "    <tr>\n",
       "      <th>0</th>\n",
       "      <td>produce</td>\n",
       "      <td>409087</td>\n",
       "    </tr>\n",
       "    <tr>\n",
       "      <th>1</th>\n",
       "      <td>dairy eggs</td>\n",
       "      <td>217051</td>\n",
       "    </tr>\n",
       "    <tr>\n",
       "      <th>2</th>\n",
       "      <td>snacks</td>\n",
       "      <td>118862</td>\n",
       "    </tr>\n",
       "    <tr>\n",
       "      <th>3</th>\n",
       "      <td>beverages</td>\n",
       "      <td>114046</td>\n",
       "    </tr>\n",
       "    <tr>\n",
       "      <th>4</th>\n",
       "      <td>frozen</td>\n",
       "      <td>100426</td>\n",
       "    </tr>\n",
       "    <tr>\n",
       "      <th>5</th>\n",
       "      <td>pantry</td>\n",
       "      <td>81242</td>\n",
       "    </tr>\n",
       "    <tr>\n",
       "      <th>6</th>\n",
       "      <td>bakery</td>\n",
       "      <td>48394</td>\n",
       "    </tr>\n",
       "    <tr>\n",
       "      <th>7</th>\n",
       "      <td>canned goods</td>\n",
       "      <td>46799</td>\n",
       "    </tr>\n",
       "    <tr>\n",
       "      <th>8</th>\n",
       "      <td>deli</td>\n",
       "      <td>44291</td>\n",
       "    </tr>\n",
       "    <tr>\n",
       "      <th>9</th>\n",
       "      <td>dry goods pasta</td>\n",
       "      <td>38713</td>\n",
       "    </tr>\n",
       "  </tbody>\n",
       "</table>\n",
       "</div>"
      ],
      "text/plain": [
       "        department  order_count\n",
       "0          produce       409087\n",
       "1       dairy eggs       217051\n",
       "2           snacks       118862\n",
       "3        beverages       114046\n",
       "4           frozen       100426\n",
       "5           pantry        81242\n",
       "6           bakery        48394\n",
       "7     canned goods        46799\n",
       "8             deli        44291\n",
       "9  dry goods pasta        38713"
      ]
     },
     "execution_count": 150,
     "metadata": {},
     "output_type": "execute_result"
    }
   ],
   "source": [
    "top_departments = merged['department'].value_counts().reset_index()\n",
    "top_departments.columns = ['department', 'order_count']\n",
    "top_departments.head(10)\n"
   ]
  },
  {
   "cell_type": "code",
   "execution_count": 151,
   "id": "b1d27c84-fc63-4aa8-8557-a53833eaf3b0",
   "metadata": {},
   "outputs": [
    {
     "data": {
      "image/png": "[encoded data removed]",
      "text/plain": [
       "<Figure size 640x480 with 1 Axes>"
      ]
     },
     "metadata": {},
     "output_type": "display_data"
    }
   ],
   "source": [
    "sns.barplot(data=top_departments.head(10), y='department', x='order_count', palette='coolwarm')\n",
    "plt.title('Top Departments by Order Count')\n",
    "plt.xlabel('Order Count')\n",
    "plt.ylabel('Department')\n",
    "plt.show()\n"
   ]
  },
  {
   "cell_type": "markdown",
   "id": "5d322668-da80-41d5-a1f8-2f8cd716edce",
   "metadata": {},
   "source": [
    "**Top Aisles**"
   ]
  },
  {
   "cell_type": "code",
   "execution_count": 153,
   "id": "109b7f56-9e31-4dc1-9368-38f72e731486",
   "metadata": {},
   "outputs": [
    {
     "data": {
      "text/html": [
       "<div>\n",
       "<style scoped>\n",
       "    .dataframe tbody tr th:only-of-type {\n",
       "        vertical-align: middle;\n",
       "    }\n",
       "\n",
       "    .dataframe tbody tr th {\n",
       "        vertical-align: top;\n",
       "    }\n",
       "\n",
       "    .dataframe thead th {\n",
       "        text-align: right;\n",
       "    }\n",
       "</style>\n",
       "<table border=\"1\" class=\"dataframe\">\n",
       "  <thead>\n",
       "    <tr style=\"text-align: right;\">\n",
       "      <th></th>\n",
       "      <th>aisle</th>\n",
       "      <th>order_count</th>\n",
       "    </tr>\n",
       "  </thead>\n",
       "  <tbody>\n",
       "    <tr>\n",
       "      <th>0</th>\n",
       "      <td>fresh vegetables</td>\n",
       "      <td>150609</td>\n",
       "    </tr>\n",
       "    <tr>\n",
       "      <th>1</th>\n",
       "      <td>fresh fruits</td>\n",
       "      <td>150473</td>\n",
       "    </tr>\n",
       "    <tr>\n",
       "      <th>2</th>\n",
       "      <td>packaged vegetables fruits</td>\n",
       "      <td>78493</td>\n",
       "    </tr>\n",
       "    <tr>\n",
       "      <th>3</th>\n",
       "      <td>yogurt</td>\n",
       "      <td>55240</td>\n",
       "    </tr>\n",
       "    <tr>\n",
       "      <th>4</th>\n",
       "      <td>packaged cheese</td>\n",
       "      <td>41699</td>\n",
       "    </tr>\n",
       "    <tr>\n",
       "      <th>5</th>\n",
       "      <td>water seltzer sparkling water</td>\n",
       "      <td>36617</td>\n",
       "    </tr>\n",
       "    <tr>\n",
       "      <th>6</th>\n",
       "      <td>milk</td>\n",
       "      <td>32644</td>\n",
       "    </tr>\n",
       "    <tr>\n",
       "      <th>7</th>\n",
       "      <td>chips pretzels</td>\n",
       "      <td>31269</td>\n",
       "    </tr>\n",
       "    <tr>\n",
       "      <th>8</th>\n",
       "      <td>soy lactosefree</td>\n",
       "      <td>26240</td>\n",
       "    </tr>\n",
       "    <tr>\n",
       "      <th>9</th>\n",
       "      <td>bread</td>\n",
       "      <td>23635</td>\n",
       "    </tr>\n",
       "  </tbody>\n",
       "</table>\n",
       "</div>"
      ],
      "text/plain": [
       "                           aisle  order_count\n",
       "0               fresh vegetables       150609\n",
       "1                   fresh fruits       150473\n",
       "2     packaged vegetables fruits        78493\n",
       "3                         yogurt        55240\n",
       "4                packaged cheese        41699\n",
       "5  water seltzer sparkling water        36617\n",
       "6                           milk        32644\n",
       "7                 chips pretzels        31269\n",
       "8                soy lactosefree        26240\n",
       "9                          bread        23635"
      ]
     },
     "execution_count": 153,
     "metadata": {},
     "output_type": "execute_result"
    }
   ],
   "source": [
    "top_aisles = merged['aisle'].value_counts().reset_index()\n",
    "top_aisles.columns = ['aisle', 'order_count']\n",
    "top_aisles.head(10)\n"
   ]
  },
  {
   "cell_type": "code",
   "execution_count": 154,
   "id": "6649d25d-9a11-4bcb-a371-f9ef89291816",
   "metadata": {},
   "outputs": [
    {
     "data": {
      "image/png": "[encoded data removed]",
      "text/plain": [
       "<Figure size 640x480 with 1 Axes>"
      ]
     },
     "metadata": {},
     "output_type": "display_data"
    }
   ],
   "source": [
    "sns.barplot(data=top_aisles.head(10), y='aisle', x='order_count', palette='cubehelix')\n",
    "plt.title('Top Aisles by Order Count')\n",
    "plt.xlabel('Order Count')\n",
    "plt.ylabel('Aisle')\n",
    "plt.show()\n"
   ]
  },
  {
   "cell_type": "markdown",
   "id": "798c1ea3-115a-4836-a043-61d62f169120",
   "metadata": {},
   "source": [
    "**Pie chart for reordered vs first-time orders**"
   ]
  },
  {
   "cell_type": "code",
   "execution_count": 156,
   "id": "e17f362c-168e-49be-8463-473e8c550024",
   "metadata": {},
   "outputs": [
    {
     "data": {
      "text/plain": [
       "First-time Orders    19126536\n",
       "Reorders             13307953\n",
       "Name: count, dtype: int64"
      ]
     },
     "execution_count": 156,
     "metadata": {},
     "output_type": "execute_result"
    }
   ],
   "source": [
    "reorder_counts = df2['reordered'].value_counts()\n",
    "reorder_counts.index = ['First-time Orders', 'Reorders']\n",
    "reorder_counts"
   ]
  },
  {
   "cell_type": "code",
   "execution_count": 157,
   "id": "648371e0-c901-4fcb-96c2-f81a1a061804",
   "metadata": {},
   "outputs": [
    {
     "data": {
      "image/png": "[encoded data removed]",
      "text/plain": [
       "<Figure size 600x600 with 1 Axes>"
      ]
     },
     "metadata": {},
     "output_type": "display_data"
    }
   ],
   "source": [
    "import matplotlib.pyplot as plt\n",
    "\n",
    "colors = ['#66b3ff', '#99ff99'] \n",
    "explode = (0, 0.05)  # Slightly \"explode\" the second slice (reorders)\n",
    "\n",
    "plt.figure(figsize=(6, 6))\n",
    "plt.pie(reorder_counts, labels=reorder_counts.index, autopct='%1.1f%%',\n",
    "        startangle=90, colors=colors, explode=explode, shadow=True)\n",
    "plt.title('Reordered vs First-Time Orders')\n",
    "plt.show()"
   ]
  },
  {
   "cell_type": "markdown",
   "id": "319402df-2eab-433a-ba3f-a1d6dca9f73c",
   "metadata": {},
   "source": [
    "Around 41.0% of the products are reorders, showing strong user product loyalty.\n",
    "This insight could help identify high-retention products and optimize inventory."
   ]
  },
  {
   "cell_type": "markdown",
   "id": "13ef69dc-5030-42cc-bae7-dc677f332fcb",
   "metadata": {},
   "source": [
    "**Business Questions**"
   ]
  },
  {
   "cell_type": "markdown",
   "id": "c39cb63d-a3ed-4f34-860e-b82f810c9e97",
   "metadata": {},
   "source": [
    "What are the top 10 most frequently ordered products?"
   ]
  },
  {
   "cell_type": "code",
   "execution_count": 161,
   "id": "e88119f4-a137-45a6-997d-a383e79f3932",
   "metadata": {},
   "outputs": [],
   "source": [
    "popular_products = popular_products.merge(df4[['product_id','product_name']],on='product_id')"
   ]
  },
  {
   "cell_type": "code",
   "execution_count": 162,
   "id": "1618fe87-1184-41f8-a4b1-cb9f96af01d0",
   "metadata": {},
   "outputs": [
    {
     "data": {
      "text/html": [
       "<div>\n",
       "<style scoped>\n",
       "    .dataframe tbody tr th:only-of-type {\n",
       "        vertical-align: middle;\n",
       "    }\n",
       "\n",
       "    .dataframe tbody tr th {\n",
       "        vertical-align: top;\n",
       "    }\n",
       "\n",
       "    .dataframe thead th {\n",
       "        text-align: right;\n",
       "    }\n",
       "</style>\n",
       "<table border=\"1\" class=\"dataframe\">\n",
       "  <thead>\n",
       "    <tr style=\"text-align: right;\">\n",
       "      <th></th>\n",
       "      <th>product_id</th>\n",
       "      <th>order_counts</th>\n",
       "      <th>product_name_x</th>\n",
       "      <th>product_name_y</th>\n",
       "    </tr>\n",
       "  </thead>\n",
       "  <tbody>\n",
       "    <tr>\n",
       "      <th>0</th>\n",
       "      <td>24852</td>\n",
       "      <td>18726</td>\n",
       "      <td>Banana</td>\n",
       "      <td>Banana</td>\n",
       "    </tr>\n",
       "    <tr>\n",
       "      <th>1</th>\n",
       "      <td>13176</td>\n",
       "      <td>15480</td>\n",
       "      <td>Bag of Organic Bananas</td>\n",
       "      <td>Bag of Organic Bananas</td>\n",
       "    </tr>\n",
       "    <tr>\n",
       "      <th>2</th>\n",
       "      <td>21137</td>\n",
       "      <td>10894</td>\n",
       "      <td>Organic Strawberries</td>\n",
       "      <td>Organic Strawberries</td>\n",
       "    </tr>\n",
       "    <tr>\n",
       "      <th>3</th>\n",
       "      <td>21903</td>\n",
       "      <td>9784</td>\n",
       "      <td>Organic Baby Spinach</td>\n",
       "      <td>Organic Baby Spinach</td>\n",
       "    </tr>\n",
       "    <tr>\n",
       "      <th>4</th>\n",
       "      <td>47626</td>\n",
       "      <td>8135</td>\n",
       "      <td>Large Lemon</td>\n",
       "      <td>Large Lemon</td>\n",
       "    </tr>\n",
       "    <tr>\n",
       "      <th>5</th>\n",
       "      <td>47766</td>\n",
       "      <td>7409</td>\n",
       "      <td>Organic Avocado</td>\n",
       "      <td>Organic Avocado</td>\n",
       "    </tr>\n",
       "    <tr>\n",
       "      <th>6</th>\n",
       "      <td>47209</td>\n",
       "      <td>7293</td>\n",
       "      <td>Organic Hass Avocado</td>\n",
       "      <td>Organic Hass Avocado</td>\n",
       "    </tr>\n",
       "    <tr>\n",
       "      <th>7</th>\n",
       "      <td>16797</td>\n",
       "      <td>6494</td>\n",
       "      <td>Strawberries</td>\n",
       "      <td>Strawberries</td>\n",
       "    </tr>\n",
       "    <tr>\n",
       "      <th>8</th>\n",
       "      <td>26209</td>\n",
       "      <td>6033</td>\n",
       "      <td>Limes</td>\n",
       "      <td>Limes</td>\n",
       "    </tr>\n",
       "    <tr>\n",
       "      <th>9</th>\n",
       "      <td>27966</td>\n",
       "      <td>5546</td>\n",
       "      <td>Organic Raspberries</td>\n",
       "      <td>Organic Raspberries</td>\n",
       "    </tr>\n",
       "  </tbody>\n",
       "</table>\n",
       "</div>"
      ],
      "text/plain": [
       "   product_id  order_counts          product_name_x          product_name_y\n",
       "0       24852         18726                  Banana                  Banana\n",
       "1       13176         15480  Bag of Organic Bananas  Bag of Organic Bananas\n",
       "2       21137         10894    Organic Strawberries    Organic Strawberries\n",
       "3       21903          9784    Organic Baby Spinach    Organic Baby Spinach\n",
       "4       47626          8135             Large Lemon             Large Lemon\n",
       "5       47766          7409         Organic Avocado         Organic Avocado\n",
       "6       47209          7293    Organic Hass Avocado    Organic Hass Avocado\n",
       "7       16797          6494            Strawberries            Strawberries\n",
       "8       26209          6033                   Limes                   Limes\n",
       "9       27966          5546     Organic Raspberries     Organic Raspberries"
      ]
     },
     "execution_count": 162,
     "metadata": {},
     "output_type": "execute_result"
    }
   ],
   "source": [
    "popular_products.head(10)"
   ]
  },
  {
   "cell_type": "markdown",
   "id": "fee24b47-4d2d-48b2-8dfc-d13c17569121",
   "metadata": {},
   "source": [
    "What percentage of products are reorders?"
   ]
  },
  {
   "cell_type": "code",
   "execution_count": 164,
   "id": "9f729b9a-f63c-46b6-877c-8ffb9763b31d",
   "metadata": {},
   "outputs": [],
   "source": [
    "percentage_reorder_users = round(reorder_stats['reordered_flag'].mean()*100,2)"
   ]
  },
  {
   "cell_type": "code",
   "execution_count": 165,
   "id": "58d87de9-628e-4a48-915a-218d5d002726",
   "metadata": {},
   "outputs": [
    {
     "data": {
      "text/plain": [
       "98.52"
      ]
     },
     "execution_count": 165,
     "metadata": {},
     "output_type": "execute_result"
    }
   ],
   "source": [
    "percentage_reorder_users"
   ]
  },
  {
   "cell_type": "markdown",
   "id": "12bae071-52e7-4855-b078-9d89c90e6694",
   "metadata": {},
   "source": [
    "Which departments and aisles have the most orders?"
   ]
  },
  {
   "cell_type": "code",
   "execution_count": 167,
   "id": "39b323f8-c06c-4159-bd75-c763795831fb",
   "metadata": {},
   "outputs": [],
   "source": [
    "top_departments = merged['department'].value_counts().reset_index()\n",
    "top_aisles = merged['aisle'].value_counts().reset_index()"
   ]
  },
  {
   "cell_type": "code",
   "execution_count": 168,
   "id": "dd48a0bd-70c5-42aa-905a-2f102a68cf18",
   "metadata": {},
   "outputs": [
    {
     "data": {
      "text/html": [
       "<div>\n",
       "<style scoped>\n",
       "    .dataframe tbody tr th:only-of-type {\n",
       "        vertical-align: middle;\n",
       "    }\n",
       "\n",
       "    .dataframe tbody tr th {\n",
       "        vertical-align: top;\n",
       "    }\n",
       "\n",
       "    .dataframe thead th {\n",
       "        text-align: right;\n",
       "    }\n",
       "</style>\n",
       "<table border=\"1\" class=\"dataframe\">\n",
       "  <thead>\n",
       "    <tr style=\"text-align: right;\">\n",
       "      <th></th>\n",
       "      <th>department</th>\n",
       "      <th>count</th>\n",
       "    </tr>\n",
       "  </thead>\n",
       "  <tbody>\n",
       "    <tr>\n",
       "      <th>0</th>\n",
       "      <td>produce</td>\n",
       "      <td>409087</td>\n",
       "    </tr>\n",
       "    <tr>\n",
       "      <th>1</th>\n",
       "      <td>dairy eggs</td>\n",
       "      <td>217051</td>\n",
       "    </tr>\n",
       "    <tr>\n",
       "      <th>2</th>\n",
       "      <td>snacks</td>\n",
       "      <td>118862</td>\n",
       "    </tr>\n",
       "    <tr>\n",
       "      <th>3</th>\n",
       "      <td>beverages</td>\n",
       "      <td>114046</td>\n",
       "    </tr>\n",
       "    <tr>\n",
       "      <th>4</th>\n",
       "      <td>frozen</td>\n",
       "      <td>100426</td>\n",
       "    </tr>\n",
       "    <tr>\n",
       "      <th>5</th>\n",
       "      <td>pantry</td>\n",
       "      <td>81242</td>\n",
       "    </tr>\n",
       "    <tr>\n",
       "      <th>6</th>\n",
       "      <td>bakery</td>\n",
       "      <td>48394</td>\n",
       "    </tr>\n",
       "    <tr>\n",
       "      <th>7</th>\n",
       "      <td>canned goods</td>\n",
       "      <td>46799</td>\n",
       "    </tr>\n",
       "    <tr>\n",
       "      <th>8</th>\n",
       "      <td>deli</td>\n",
       "      <td>44291</td>\n",
       "    </tr>\n",
       "    <tr>\n",
       "      <th>9</th>\n",
       "      <td>dry goods pasta</td>\n",
       "      <td>38713</td>\n",
       "    </tr>\n",
       "    <tr>\n",
       "      <th>10</th>\n",
       "      <td>household</td>\n",
       "      <td>35986</td>\n",
       "    </tr>\n",
       "    <tr>\n",
       "      <th>11</th>\n",
       "      <td>meat seafood</td>\n",
       "      <td>30307</td>\n",
       "    </tr>\n",
       "    <tr>\n",
       "      <th>12</th>\n",
       "      <td>breakfast</td>\n",
       "      <td>29500</td>\n",
       "    </tr>\n",
       "    <tr>\n",
       "      <th>13</th>\n",
       "      <td>personal care</td>\n",
       "      <td>21570</td>\n",
       "    </tr>\n",
       "    <tr>\n",
       "      <th>14</th>\n",
       "      <td>babies</td>\n",
       "      <td>14941</td>\n",
       "    </tr>\n",
       "    <tr>\n",
       "      <th>15</th>\n",
       "      <td>international</td>\n",
       "      <td>11902</td>\n",
       "    </tr>\n",
       "    <tr>\n",
       "      <th>16</th>\n",
       "      <td>missing</td>\n",
       "      <td>8251</td>\n",
       "    </tr>\n",
       "    <tr>\n",
       "      <th>17</th>\n",
       "      <td>alcohol</td>\n",
       "      <td>5598</td>\n",
       "    </tr>\n",
       "    <tr>\n",
       "      <th>18</th>\n",
       "      <td>pets</td>\n",
       "      <td>4497</td>\n",
       "    </tr>\n",
       "    <tr>\n",
       "      <th>19</th>\n",
       "      <td>other</td>\n",
       "      <td>1795</td>\n",
       "    </tr>\n",
       "    <tr>\n",
       "      <th>20</th>\n",
       "      <td>bulk</td>\n",
       "      <td>1359</td>\n",
       "    </tr>\n",
       "  </tbody>\n",
       "</table>\n",
       "</div>"
      ],
      "text/plain": [
       "         department   count\n",
       "0           produce  409087\n",
       "1        dairy eggs  217051\n",
       "2            snacks  118862\n",
       "3         beverages  114046\n",
       "4            frozen  100426\n",
       "5            pantry   81242\n",
       "6            bakery   48394\n",
       "7      canned goods   46799\n",
       "8              deli   44291\n",
       "9   dry goods pasta   38713\n",
       "10        household   35986\n",
       "11     meat seafood   30307\n",
       "12        breakfast   29500\n",
       "13    personal care   21570\n",
       "14           babies   14941\n",
       "15    international   11902\n",
       "16          missing    8251\n",
       "17          alcohol    5598\n",
       "18             pets    4497\n",
       "19            other    1795\n",
       "20             bulk    1359"
      ]
     },
     "execution_count": 168,
     "metadata": {},
     "output_type": "execute_result"
    }
   ],
   "source": [
    "top_departments"
   ]
  },
  {
   "cell_type": "code",
   "execution_count": 169,
   "id": "6bdfc2bf-98c8-472e-b43c-f451f3bff7b7",
   "metadata": {},
   "outputs": [
    {
     "data": {
      "text/html": [
       "<div>\n",
       "<style scoped>\n",
       "    .dataframe tbody tr th:only-of-type {\n",
       "        vertical-align: middle;\n",
       "    }\n",
       "\n",
       "    .dataframe tbody tr th {\n",
       "        vertical-align: top;\n",
       "    }\n",
       "\n",
       "    .dataframe thead th {\n",
       "        text-align: right;\n",
       "    }\n",
       "</style>\n",
       "<table border=\"1\" class=\"dataframe\">\n",
       "  <thead>\n",
       "    <tr style=\"text-align: right;\">\n",
       "      <th></th>\n",
       "      <th>aisle</th>\n",
       "      <th>count</th>\n",
       "    </tr>\n",
       "  </thead>\n",
       "  <tbody>\n",
       "    <tr>\n",
       "      <th>0</th>\n",
       "      <td>fresh vegetables</td>\n",
       "      <td>150609</td>\n",
       "    </tr>\n",
       "    <tr>\n",
       "      <th>1</th>\n",
       "      <td>fresh fruits</td>\n",
       "      <td>150473</td>\n",
       "    </tr>\n",
       "    <tr>\n",
       "      <th>2</th>\n",
       "      <td>packaged vegetables fruits</td>\n",
       "      <td>78493</td>\n",
       "    </tr>\n",
       "    <tr>\n",
       "      <th>3</th>\n",
       "      <td>yogurt</td>\n",
       "      <td>55240</td>\n",
       "    </tr>\n",
       "    <tr>\n",
       "      <th>4</th>\n",
       "      <td>packaged cheese</td>\n",
       "      <td>41699</td>\n",
       "    </tr>\n",
       "    <tr>\n",
       "      <th>...</th>\n",
       "      <td>...</td>\n",
       "      <td>...</td>\n",
       "    </tr>\n",
       "    <tr>\n",
       "      <th>129</th>\n",
       "      <td>kitchen supplies</td>\n",
       "      <td>448</td>\n",
       "    </tr>\n",
       "    <tr>\n",
       "      <th>130</th>\n",
       "      <td>baby bath body care</td>\n",
       "      <td>328</td>\n",
       "    </tr>\n",
       "    <tr>\n",
       "      <th>131</th>\n",
       "      <td>baby accessories</td>\n",
       "      <td>306</td>\n",
       "    </tr>\n",
       "    <tr>\n",
       "      <th>132</th>\n",
       "      <td>frozen juice</td>\n",
       "      <td>294</td>\n",
       "    </tr>\n",
       "    <tr>\n",
       "      <th>133</th>\n",
       "      <td>beauty</td>\n",
       "      <td>287</td>\n",
       "    </tr>\n",
       "  </tbody>\n",
       "</table>\n",
       "<p>134 rows × 2 columns</p>\n",
       "</div>"
      ],
      "text/plain": [
       "                          aisle   count\n",
       "0              fresh vegetables  150609\n",
       "1                  fresh fruits  150473\n",
       "2    packaged vegetables fruits   78493\n",
       "3                        yogurt   55240\n",
       "4               packaged cheese   41699\n",
       "..                          ...     ...\n",
       "129            kitchen supplies     448\n",
       "130         baby bath body care     328\n",
       "131            baby accessories     306\n",
       "132                frozen juice     294\n",
       "133                      beauty     287\n",
       "\n",
       "[134 rows x 2 columns]"
      ]
     },
     "execution_count": 169,
     "metadata": {},
     "output_type": "execute_result"
    }
   ],
   "source": [
    "top_aisles"
   ]
  },
  {
   "cell_type": "markdown",
   "id": "cc6da591-9d4a-4f3a-ad71-6d224d02a585",
   "metadata": {},
   "source": [
    "What is the reorder ratio by product?"
   ]
  },
  {
   "cell_type": "code",
   "execution_count": 171,
   "id": "2b104250-fe4a-443e-a871-91048da7cd3f",
   "metadata": {},
   "outputs": [
    {
     "data": {
      "text/html": [
       "<div>\n",
       "<style scoped>\n",
       "    .dataframe tbody tr th:only-of-type {\n",
       "        vertical-align: middle;\n",
       "    }\n",
       "\n",
       "    .dataframe tbody tr th {\n",
       "        vertical-align: top;\n",
       "    }\n",
       "\n",
       "    .dataframe thead th {\n",
       "        text-align: right;\n",
       "    }\n",
       "</style>\n",
       "<table border=\"1\" class=\"dataframe\">\n",
       "  <thead>\n",
       "    <tr style=\"text-align: right;\">\n",
       "      <th></th>\n",
       "      <th>product_id</th>\n",
       "      <th>reorder_rate</th>\n",
       "      <th>product_name</th>\n",
       "    </tr>\n",
       "  </thead>\n",
       "  <tbody>\n",
       "    <tr>\n",
       "      <th>19561</th>\n",
       "      <td>24836</td>\n",
       "      <td>1.0</td>\n",
       "      <td>Cat Litter, Scoopable, Scented</td>\n",
       "    </tr>\n",
       "    <tr>\n",
       "      <th>5283</th>\n",
       "      <td>6708</td>\n",
       "      <td>1.0</td>\n",
       "      <td>Orange Navel</td>\n",
       "    </tr>\n",
       "    <tr>\n",
       "      <th>23610</th>\n",
       "      <td>29977</td>\n",
       "      <td>1.0</td>\n",
       "      <td>Bacon Style Slices</td>\n",
       "    </tr>\n",
       "    <tr>\n",
       "      <th>23618</th>\n",
       "      <td>29988</td>\n",
       "      <td>1.0</td>\n",
       "      <td>Chocolate Granola Bars</td>\n",
       "    </tr>\n",
       "    <tr>\n",
       "      <th>23628</th>\n",
       "      <td>30002</td>\n",
       "      <td>1.0</td>\n",
       "      <td>Antioxidant Blend Frozen Smoothie</td>\n",
       "    </tr>\n",
       "    <tr>\n",
       "      <th>5312</th>\n",
       "      <td>6743</td>\n",
       "      <td>1.0</td>\n",
       "      <td>Original Oven Roasted Turkey</td>\n",
       "    </tr>\n",
       "    <tr>\n",
       "      <th>23636</th>\n",
       "      <td>30012</td>\n",
       "      <td>1.0</td>\n",
       "      <td>Gentlease Infant Formula for Fussiness, Gas, a...</td>\n",
       "    </tr>\n",
       "    <tr>\n",
       "      <th>23639</th>\n",
       "      <td>30015</td>\n",
       "      <td>1.0</td>\n",
       "      <td>Rich &amp; Creamy Mocha Coffee Beverage</td>\n",
       "    </tr>\n",
       "    <tr>\n",
       "      <th>23642</th>\n",
       "      <td>30018</td>\n",
       "      <td>1.0</td>\n",
       "      <td>Prime Filets Turkey Dinner In Gravy</td>\n",
       "    </tr>\n",
       "    <tr>\n",
       "      <th>5307</th>\n",
       "      <td>6737</td>\n",
       "      <td>1.0</td>\n",
       "      <td>Chocolate Creme Cake</td>\n",
       "    </tr>\n",
       "  </tbody>\n",
       "</table>\n",
       "</div>"
      ],
      "text/plain": [
       "       product_id  reorder_rate  \\\n",
       "19561       24836           1.0   \n",
       "5283         6708           1.0   \n",
       "23610       29977           1.0   \n",
       "23618       29988           1.0   \n",
       "23628       30002           1.0   \n",
       "5312         6743           1.0   \n",
       "23636       30012           1.0   \n",
       "23639       30015           1.0   \n",
       "23642       30018           1.0   \n",
       "5307         6737           1.0   \n",
       "\n",
       "                                            product_name  \n",
       "19561                     Cat Litter, Scoopable, Scented  \n",
       "5283                                        Orange Navel  \n",
       "23610                                 Bacon Style Slices  \n",
       "23618                             Chocolate Granola Bars  \n",
       "23628                  Antioxidant Blend Frozen Smoothie  \n",
       "5312                        Original Oven Roasted Turkey  \n",
       "23636  Gentlease Infant Formula for Fussiness, Gas, a...  \n",
       "23639                Rich & Creamy Mocha Coffee Beverage  \n",
       "23642                Prime Filets Turkey Dinner In Gravy  \n",
       "5307                                Chocolate Creme Cake  "
      ]
     },
     "execution_count": 171,
     "metadata": {},
     "output_type": "execute_result"
    }
   ],
   "source": [
    "# Group by product and calculate reorder ratio\n",
    "reorder_ratio = df3.groupby('product_id')['reordered'].mean().reset_index()\n",
    "reorder_ratio.columns = ['product_id', 'reorder_rate']\n",
    "\n",
    "# Merge with product names\n",
    "reorder_ratio = reorder_ratio.merge(df4[['product_id', 'product_name']], on='product_id')\n",
    "\n",
    "# Sort and show top 10\n",
    "top_reordered = reorder_ratio.sort_values('reorder_rate', ascending=False).head(10)\n",
    "top_reordered\n"
   ]
  },
  {
   "cell_type": "markdown",
   "id": "0302ba03-6157-4b4b-be8b-594957689944",
   "metadata": {},
   "source": [
    "Which users are the most loyal (i.e., reorder the most)?\n"
   ]
  },
  {
   "cell_type": "code",
   "execution_count": 173,
   "id": "f567ef3b-ce91-4ac2-9647-6da1ba1582a2",
   "metadata": {},
   "outputs": [],
   "source": [
    "def loyalty_tier(x):\n",
    "    if x <=5:\n",
    "        return 'New'\n",
    "    elif x<=15:\n",
    "        return 'Active'\n",
    "    else:\n",
    "        return 'Loyal'"
   ]
  },
  {
   "cell_type": "code",
   "execution_count": 174,
   "id": "a8a04f49-5a16-4350-a1ef-b3af0430c9f6",
   "metadata": {},
   "outputs": [],
   "source": [
    "orders_per_user['loyalty'] = orders_per_user['total_orders'].apply(loyalty_tier)"
   ]
  },
  {
   "cell_type": "code",
   "execution_count": 175,
   "id": "ba036d91-f401-45c4-ae53-f2734bb92f82",
   "metadata": {},
   "outputs": [
    {
     "data": {
      "text/html": [
       "<div>\n",
       "<style scoped>\n",
       "    .dataframe tbody tr th:only-of-type {\n",
       "        vertical-align: middle;\n",
       "    }\n",
       "\n",
       "    .dataframe tbody tr th {\n",
       "        vertical-align: top;\n",
       "    }\n",
       "\n",
       "    .dataframe thead th {\n",
       "        text-align: right;\n",
       "    }\n",
       "</style>\n",
       "<table border=\"1\" class=\"dataframe\">\n",
       "  <thead>\n",
       "    <tr style=\"text-align: right;\">\n",
       "      <th></th>\n",
       "      <th>user_id</th>\n",
       "      <th>total_orders</th>\n",
       "      <th>loyalty</th>\n",
       "    </tr>\n",
       "  </thead>\n",
       "  <tbody>\n",
       "    <tr>\n",
       "      <th>0</th>\n",
       "      <td>1</td>\n",
       "      <td>11</td>\n",
       "      <td>Active</td>\n",
       "    </tr>\n",
       "    <tr>\n",
       "      <th>1</th>\n",
       "      <td>2</td>\n",
       "      <td>15</td>\n",
       "      <td>Active</td>\n",
       "    </tr>\n",
       "    <tr>\n",
       "      <th>2</th>\n",
       "      <td>3</td>\n",
       "      <td>13</td>\n",
       "      <td>Active</td>\n",
       "    </tr>\n",
       "    <tr>\n",
       "      <th>3</th>\n",
       "      <td>4</td>\n",
       "      <td>6</td>\n",
       "      <td>Active</td>\n",
       "    </tr>\n",
       "    <tr>\n",
       "      <th>4</th>\n",
       "      <td>5</td>\n",
       "      <td>5</td>\n",
       "      <td>New</td>\n",
       "    </tr>\n",
       "    <tr>\n",
       "      <th>...</th>\n",
       "      <td>...</td>\n",
       "      <td>...</td>\n",
       "      <td>...</td>\n",
       "    </tr>\n",
       "    <tr>\n",
       "      <th>206204</th>\n",
       "      <td>206205</td>\n",
       "      <td>4</td>\n",
       "      <td>New</td>\n",
       "    </tr>\n",
       "    <tr>\n",
       "      <th>206205</th>\n",
       "      <td>206206</td>\n",
       "      <td>68</td>\n",
       "      <td>Loyal</td>\n",
       "    </tr>\n",
       "    <tr>\n",
       "      <th>206206</th>\n",
       "      <td>206207</td>\n",
       "      <td>17</td>\n",
       "      <td>Loyal</td>\n",
       "    </tr>\n",
       "    <tr>\n",
       "      <th>206207</th>\n",
       "      <td>206208</td>\n",
       "      <td>50</td>\n",
       "      <td>Loyal</td>\n",
       "    </tr>\n",
       "    <tr>\n",
       "      <th>206208</th>\n",
       "      <td>206209</td>\n",
       "      <td>14</td>\n",
       "      <td>Active</td>\n",
       "    </tr>\n",
       "  </tbody>\n",
       "</table>\n",
       "<p>206209 rows × 3 columns</p>\n",
       "</div>"
      ],
      "text/plain": [
       "        user_id  total_orders loyalty\n",
       "0             1            11  Active\n",
       "1             2            15  Active\n",
       "2             3            13  Active\n",
       "3             4             6  Active\n",
       "4             5             5     New\n",
       "...         ...           ...     ...\n",
       "206204   206205             4     New\n",
       "206205   206206            68   Loyal\n",
       "206206   206207            17   Loyal\n",
       "206207   206208            50   Loyal\n",
       "206208   206209            14  Active\n",
       "\n",
       "[206209 rows x 3 columns]"
      ]
     },
     "execution_count": 175,
     "metadata": {},
     "output_type": "execute_result"
    }
   ],
   "source": [
    "orders_per_user"
   ]
  },
  {
   "cell_type": "markdown",
   "id": "6d54be88-7644-4719-8ca8-94052f8911f4",
   "metadata": {},
   "source": [
    "**Business Insights & Recommendations**"
   ]
  },
  {
   "cell_type": "markdown",
   "id": "08af6bc1-0896-4171-a105-b7aad5beb6fa",
   "metadata": {},
   "source": [
    "80% of users reorder bananas—consider bundling them with other fruits.\n",
    "\n",
    "Most orders happen between 10am–3pm on Sundays—optimize delivery teams then.\n",
    "\n"
   ]
  },
  {
   "cell_type": "markdown",
   "id": "59d809b2-4772-442e-829f-02c296991e85",
   "metadata": {},
   "source": [
    "**Advanced E-Commerce Analytics**"
   ]
  },
  {
   "cell_type": "markdown",
   "id": "5765284b-b10a-4a4a-b8d6-9a31c69890a7",
   "metadata": {},
   "source": [
    "RFM Analysis (Recency, Frequency, Monetary)"
   ]
  },
  {
   "cell_type": "markdown",
   "id": "a046955c-4947-4b6f-83b3-5188edbc88a6",
   "metadata": {},
   "source": [
    "Goal: Segment customers by how recently, how often, and how much they order"
   ]
  },
  {
   "cell_type": "markdown",
   "id": "fd9aaf07-f11a-4ff3-aeb1-e2b49aed48cf",
   "metadata": {},
   "source": [
    "Recency: Days since the last order\n",
    "\n",
    "Frequency: Number of orders placed\n",
    "\n",
    "Monetary: Total items or order count (since we don’t have price)"
   ]
  },
  {
   "cell_type": "code",
   "execution_count": 182,
   "id": "50e593bf-879c-45b5-a451-dfa4d2da61e5",
   "metadata": {},
   "outputs": [],
   "source": [
    "import pandas as pd"
   ]
  },
  {
   "cell_type": "code",
   "execution_count": 183,
   "id": "93063f81-4cf3-45a3-863b-c3d1be5d5c80",
   "metadata": {},
   "outputs": [],
   "source": [
    "#Frequency: Number of orders per user\n",
    "\n",
    "rfm = df1.groupby('user_id')['order_number'].max().reset_index()\n",
    "rfm.columns = ['user_id', 'frequency']"
   ]
  },
  {
   "cell_type": "code",
   "execution_count": 184,
   "id": "bdcaddc3-0909-4dd2-9cc3-934c34aa835f",
   "metadata": {},
   "outputs": [
    {
     "data": {
      "text/html": [
       "<div>\n",
       "<style scoped>\n",
       "    .dataframe tbody tr th:only-of-type {\n",
       "        vertical-align: middle;\n",
       "    }\n",
       "\n",
       "    .dataframe tbody tr th {\n",
       "        vertical-align: top;\n",
       "    }\n",
       "\n",
       "    .dataframe thead th {\n",
       "        text-align: right;\n",
       "    }\n",
       "</style>\n",
       "<table border=\"1\" class=\"dataframe\">\n",
       "  <thead>\n",
       "    <tr style=\"text-align: right;\">\n",
       "      <th></th>\n",
       "      <th>user_id</th>\n",
       "      <th>frequency</th>\n",
       "      <th>recency</th>\n",
       "    </tr>\n",
       "  </thead>\n",
       "  <tbody>\n",
       "    <tr>\n",
       "      <th>0</th>\n",
       "      <td>1</td>\n",
       "      <td>11</td>\n",
       "      <td>190.0</td>\n",
       "    </tr>\n",
       "    <tr>\n",
       "      <th>1</th>\n",
       "      <td>2</td>\n",
       "      <td>15</td>\n",
       "      <td>228.0</td>\n",
       "    </tr>\n",
       "    <tr>\n",
       "      <th>2</th>\n",
       "      <td>3</td>\n",
       "      <td>13</td>\n",
       "      <td>144.0</td>\n",
       "    </tr>\n",
       "    <tr>\n",
       "      <th>3</th>\n",
       "      <td>4</td>\n",
       "      <td>6</td>\n",
       "      <td>85.0</td>\n",
       "    </tr>\n",
       "    <tr>\n",
       "      <th>4</th>\n",
       "      <td>5</td>\n",
       "      <td>5</td>\n",
       "      <td>46.0</td>\n",
       "    </tr>\n",
       "    <tr>\n",
       "      <th>...</th>\n",
       "      <td>...</td>\n",
       "      <td>...</td>\n",
       "      <td>...</td>\n",
       "    </tr>\n",
       "    <tr>\n",
       "      <th>206204</th>\n",
       "      <td>206205</td>\n",
       "      <td>4</td>\n",
       "      <td>50.0</td>\n",
       "    </tr>\n",
       "    <tr>\n",
       "      <th>206205</th>\n",
       "      <td>206206</td>\n",
       "      <td>68</td>\n",
       "      <td>249.0</td>\n",
       "    </tr>\n",
       "    <tr>\n",
       "      <th>206206</th>\n",
       "      <td>206207</td>\n",
       "      <td>17</td>\n",
       "      <td>229.0</td>\n",
       "    </tr>\n",
       "    <tr>\n",
       "      <th>206207</th>\n",
       "      <td>206208</td>\n",
       "      <td>50</td>\n",
       "      <td>361.0</td>\n",
       "    </tr>\n",
       "    <tr>\n",
       "      <th>206208</th>\n",
       "      <td>206209</td>\n",
       "      <td>14</td>\n",
       "      <td>240.0</td>\n",
       "    </tr>\n",
       "  </tbody>\n",
       "</table>\n",
       "<p>206209 rows × 3 columns</p>\n",
       "</div>"
      ],
      "text/plain": [
       "        user_id  frequency  recency\n",
       "0             1         11    190.0\n",
       "1             2         15    228.0\n",
       "2             3         13    144.0\n",
       "3             4          6     85.0\n",
       "4             5          5     46.0\n",
       "...         ...        ...      ...\n",
       "206204   206205          4     50.0\n",
       "206205   206206         68    249.0\n",
       "206206   206207         17    229.0\n",
       "206207   206208         50    361.0\n",
       "206208   206209         14    240.0\n",
       "\n",
       "[206209 rows x 3 columns]"
      ]
     },
     "execution_count": 184,
     "metadata": {},
     "output_type": "execute_result"
    }
   ],
   "source": [
    "# Recency: Days since last order\n",
    "Recency = df1.groupby('user_id')['days_since_prior_order'].sum().reset_index()\n",
    "Recency.columns = ['user_id', 'recency']\n",
    "rfm = rfm.merge(Recency, on='user_id')\n",
    "rfm"
   ]
  },
  {
   "cell_type": "code",
   "execution_count": 185,
   "id": "dd2310e6-1cfa-461a-8d44-d75c1ff91718",
   "metadata": {},
   "outputs": [
    {
     "data": {
      "text/html": [
       "<div>\n",
       "<style scoped>\n",
       "    .dataframe tbody tr th:only-of-type {\n",
       "        vertical-align: middle;\n",
       "    }\n",
       "\n",
       "    .dataframe tbody tr th {\n",
       "        vertical-align: top;\n",
       "    }\n",
       "\n",
       "    .dataframe thead th {\n",
       "        text-align: right;\n",
       "    }\n",
       "</style>\n",
       "<table border=\"1\" class=\"dataframe\">\n",
       "  <thead>\n",
       "    <tr style=\"text-align: right;\">\n",
       "      <th></th>\n",
       "      <th>user_id</th>\n",
       "      <th>frequency</th>\n",
       "      <th>recency</th>\n",
       "      <th>monetary</th>\n",
       "    </tr>\n",
       "  </thead>\n",
       "  <tbody>\n",
       "    <tr>\n",
       "      <th>0</th>\n",
       "      <td>1</td>\n",
       "      <td>11</td>\n",
       "      <td>190.0</td>\n",
       "      <td>59</td>\n",
       "    </tr>\n",
       "    <tr>\n",
       "      <th>1</th>\n",
       "      <td>2</td>\n",
       "      <td>15</td>\n",
       "      <td>228.0</td>\n",
       "      <td>195</td>\n",
       "    </tr>\n",
       "    <tr>\n",
       "      <th>2</th>\n",
       "      <td>3</td>\n",
       "      <td>13</td>\n",
       "      <td>144.0</td>\n",
       "      <td>88</td>\n",
       "    </tr>\n",
       "    <tr>\n",
       "      <th>3</th>\n",
       "      <td>4</td>\n",
       "      <td>6</td>\n",
       "      <td>85.0</td>\n",
       "      <td>18</td>\n",
       "    </tr>\n",
       "    <tr>\n",
       "      <th>4</th>\n",
       "      <td>5</td>\n",
       "      <td>5</td>\n",
       "      <td>46.0</td>\n",
       "      <td>37</td>\n",
       "    </tr>\n",
       "  </tbody>\n",
       "</table>\n",
       "</div>"
      ],
      "text/plain": [
       "   user_id  frequency  recency  monetary\n",
       "0        1         11    190.0        59\n",
       "1        2         15    228.0       195\n",
       "2        3         13    144.0        88\n",
       "3        4          6     85.0        18\n",
       "4        5          5     46.0        37"
      ]
     },
     "execution_count": 185,
     "metadata": {},
     "output_type": "execute_result"
    }
   ],
   "source": [
    "# Monetary: Total products ordered per user\n",
    "merged = df2.merge(df1[['order_id', 'user_id']], on='order_id')\n",
    "monetary = merged.groupby('user_id')['product_id'].count().reset_index()\n",
    "monetary.columns = ['user_id', 'monetary']\n",
    "rfm = rfm.merge(monetary, on='user_id')\n",
    "rfm.head()"
   ]
  },
  {
   "cell_type": "markdown",
   "id": "949265c0-28e5-4e56-ba94-ffdeddd5e514",
   "metadata": {},
   "source": [
    "**RFM Step-by-Step with Quantile Scoring**"
   ]
  },
  {
   "cell_type": "markdown",
   "id": "ba26d31b-671b-4a2c-9daf-9f5d43d35556",
   "metadata": {},
   "source": [
    "recency: total days since last order (lower is better)\n",
    "\n",
    "frequency: number of orders (higher is better)\n",
    "\n",
    "monetary: total items ordered (proxy for spending)\n",
    "\n"
   ]
  },
  {
   "cell_type": "markdown",
   "id": "46a3f13e-1041-43c3-9fdb-25496360c72e",
   "metadata": {},
   "source": [
    "**Assign R, F, M Scores**"
   ]
  },
  {
   "cell_type": "code",
   "execution_count": 189,
   "id": "4bcfae07-bfa0-47fa-8f55-e241a3cb5b25",
   "metadata": {},
   "outputs": [],
   "source": [
    "# R score: Lower recency = higher score\n",
    "rfm['R_score'] = pd.qcut(rfm['recency'], 4, labels=[4, 3, 2, 1])\n",
    "\n",
    "# F score: Higher frequency = higher score\n",
    "rfm['F_score'] = pd.qcut(rfm['frequency'], 4, labels=[1, 2, 3, 4])\n",
    "\n",
    "# M score: Higher monetary = higher score\n",
    "rfm['M_score'] = pd.qcut(rfm['monetary'], 4, labels=[1, 2, 3, 4])\n"
   ]
  },
  {
   "cell_type": "markdown",
   "id": "85bacaba-b7e7-480b-8257-8af68b0e5eee",
   "metadata": {},
   "source": [
    "**RFM Segment**"
   ]
  },
  {
   "cell_type": "code",
   "execution_count": 191,
   "id": "913a6ed9-69a9-4a86-858c-37a9374e7bb1",
   "metadata": {},
   "outputs": [],
   "source": [
    "rfm['RFM_Total'] = rfm[['R_score', 'F_score', 'M_score']].astype(int).sum(axis=1)"
   ]
  },
  {
   "cell_type": "code",
   "execution_count": 192,
   "id": "8d08b2e4-0212-491a-a793-2de25f3dac95",
   "metadata": {},
   "outputs": [
    {
     "data": {
      "text/plain": [
       "0          7\n",
       "1          9\n",
       "2          9\n",
       "3          6\n",
       "4          6\n",
       "          ..\n",
       "206204     6\n",
       "206205    10\n",
       "206206     9\n",
       "206207     9\n",
       "206208     8\n",
       "Name: RFM_Total, Length: 206209, dtype: int64"
      ]
     },
     "execution_count": 192,
     "metadata": {},
     "output_type": "execute_result"
    }
   ],
   "source": [
    "rfm['RFM_Total']"
   ]
  },
  {
   "cell_type": "markdown",
   "id": "ad4aa68c-4cdb-4a9e-976e-d5dccb6f7e24",
   "metadata": {},
   "source": [
    "**Segment the Users**"
   ]
  },
  {
   "cell_type": "code",
   "execution_count": 194,
   "id": "34694c1e-49e8-4b7d-b6cd-ef5c94993949",
   "metadata": {},
   "outputs": [],
   "source": [
    "def rfm_segment(row):\n",
    "    if row['RFM_Total'] >= 10:\n",
    "        return 'Champions'\n",
    "    elif row['R_score'] == 4 and row['F_score'] <= 2:\n",
    "        return 'Potential Loyalist'\n",
    "    elif row['F_score'] >= 3 and row['R_score'] <= 2:\n",
    "        return 'At Risk'\n",
    "    elif row['R_score'] == 1:\n",
    "        return 'Lost'\n",
    "    else:\n",
    "        return 'Others'\n",
    "\n",
    "rfm['Segment'] = rfm.apply(rfm_segment, axis=1)"
   ]
  },
  {
   "cell_type": "code",
   "execution_count": 195,
   "id": "44a1f35f-1c3f-40ae-a108-d161c72e51c5",
   "metadata": {},
   "outputs": [
    {
     "data": {
      "text/plain": [
       "0                    At Risk\n",
       "1                    At Risk\n",
       "2                     Others\n",
       "3         Potential Loyalist\n",
       "4         Potential Loyalist\n",
       "                 ...        \n",
       "206204    Potential Loyalist\n",
       "206205             Champions\n",
       "206206               At Risk\n",
       "206207               At Risk\n",
       "206208               At Risk\n",
       "Name: Segment, Length: 206209, dtype: object"
      ]
     },
     "execution_count": 195,
     "metadata": {},
     "output_type": "execute_result"
    }
   ],
   "source": [
    "rfm['Segment']"
   ]
  },
  {
   "cell_type": "markdown",
   "id": "d1edfd9b-9d4d-4578-b51f-a6295bda7e8c",
   "metadata": {},
   "source": [
    "**Analyze the Segments**"
   ]
  },
  {
   "cell_type": "code",
   "execution_count": 197,
   "id": "cc2ba49c-d37a-45e8-9a80-a840d7c89f25",
   "metadata": {},
   "outputs": [
    {
     "data": {
      "image/png": "[encoded data removed]",
      "text/plain": [
       "<Figure size 640x480 with 1 Axes>"
      ]
     },
     "metadata": {},
     "output_type": "display_data"
    }
   ],
   "source": [
    "import seaborn as sns\n",
    "import matplotlib.pyplot as plt\n",
    "\n",
    "sns.countplot(data=rfm, x='Segment', order=rfm['Segment'].value_counts().index)\n",
    "plt.title('Customer Segments based on RFM')\n",
    "plt.xlabel('Segment')\n",
    "plt.ylabel('Number of Users')\n",
    "plt.xticks(rotation=45)\n",
    "plt.show()\n"
   ]
  },
  {
   "cell_type": "markdown",
   "id": "af36d78e-0766-49fb-b5d4-7171001601d6",
   "metadata": {},
   "source": [
    "**INSIGHT**"
   ]
  },
  {
   "cell_type": "markdown",
   "id": "4f66e4a3-bfe0-4b28-9c27-96551b1ac178",
   "metadata": {},
   "source": [
    "We performed RFM analysis on over 200,000 Instacart customers to segment them into actionable groups. This enabled identifying Champions (frequent and recent buyers), At Risk customers (used to order often but stopped), and Lost users, allowing targeted campaigns.\n",
    "\n"
   ]
  },
  {
   "cell_type": "code",
   "execution_count": null,
   "id": "00ea22c8-d61c-4741-965c-bec333a981d5",
   "metadata": {},
   "outputs": [],
   "source": []
  },
  {
   "cell_type": "code",
   "execution_count": null,
   "id": "8300dde0-17c5-4c87-ba67-e50ceac7bde0",
   "metadata": {},
   "outputs": [],
   "source": []
  },
  {
   "cell_type": "markdown",
   "id": "60b2f706-51a2-4fef-a3f4-30e141454cc2",
   "metadata": {},
   "source": [
    "**GOAL : Predict if a user will reorder a product (1 = Reorder, 0 = First-time)**"
   ]
  },
  {
   "cell_type": "markdown",
   "id": "a870610d-b42e-497f-a8b8-2cefec9ee22b",
   "metadata": {},
   "source": [
    "using RandomForestClassifier to solve this."
   ]
  },
  {
   "cell_type": "markdown",
   "id": "40addc6a-e5c2-487f-8b98-32e48a4bb037",
   "metadata": {},
   "source": [
    "**Business Problem**"
   ]
  },
  {
   "cell_type": "markdown",
   "id": "4f06edbe-5d87-49c3-aeaf-c5f91175de72",
   "metadata": {},
   "source": [
    "Can we predict whether a product will be reordered by a customer in their next purchase?"
   ]
  },
  {
   "cell_type": "markdown",
   "id": "a1f652af-efce-4ab5-94e0-194883e6b1aa",
   "metadata": {},
   "source": [
    "This helps:\n",
    "\n",
    "1. Personalize product recommendations\n",
    "\n",
    "2. Optimize inventory\n",
    "\n",
    "3. Identify sticky products\n"
   ]
  },
  {
   "cell_type": "markdown",
   "id": "d044e132-2aea-4a11-ae2f-ac9550a3a511",
   "metadata": {},
   "source": [
    "**Target Variable**"
   ]
  },
  {
   "cell_type": "markdown",
   "id": "fa28a4a2-f544-4e6f-930a-0bd8a56f3e33",
   "metadata": {},
   "source": [
    "reordered = 0  → First-time purchase  \n",
    "reordered = 1  → Product reordered\n",
    "So reordered will be our target (label)"
   ]
  },
  {
   "cell_type": "markdown",
   "id": "6c907d6a-1835-4cfd-a5cd-5dff9f75e5b7",
   "metadata": {},
   "source": [
    "**Select Features (X)**"
   ]
  },
  {
   "cell_type": "markdown",
   "id": "6ca6de76-21a9-4840-be58-9f9ec730e213",
   "metadata": {},
   "source": [
    "useful features per user-product pair, like:\n",
    "\n",
    "Number of times user ordered this product before\n",
    "\n",
    "Average position in cart\n",
    "\n",
    "Recency of last purchase\n",
    "\n",
    "Frequency of user’s orders\n",
    "\n",
    "Reorder ratio of the product"
   ]
  },
  {
   "cell_type": "code",
   "execution_count": 209,
   "id": "ab431ab1-ba2a-4ae2-962b-bd0926d000dc",
   "metadata": {},
   "outputs": [],
   "source": [
    "# Merge product and user data\n",
    "merged = df2.merge(df1[['order_id', 'user_id', 'order_number', 'days_since_prior_order']], on='order_id')"
   ]
  },
  {
   "cell_type": "code",
   "execution_count": 210,
   "id": "8237f82c-4399-4d64-8b24-e830c3166a4e",
   "metadata": {},
   "outputs": [
    {
     "data": {
      "text/html": [
       "<div>\n",
       "<style scoped>\n",
       "    .dataframe tbody tr th:only-of-type {\n",
       "        vertical-align: middle;\n",
       "    }\n",
       "\n",
       "    .dataframe tbody tr th {\n",
       "        vertical-align: top;\n",
       "    }\n",
       "\n",
       "    .dataframe thead th {\n",
       "        text-align: right;\n",
       "    }\n",
       "</style>\n",
       "<table border=\"1\" class=\"dataframe\">\n",
       "  <thead>\n",
       "    <tr style=\"text-align: right;\">\n",
       "      <th></th>\n",
       "      <th>order_id</th>\n",
       "      <th>product_id</th>\n",
       "      <th>add_to_cart_order</th>\n",
       "      <th>reordered</th>\n",
       "      <th>user_id</th>\n",
       "      <th>order_number</th>\n",
       "      <th>days_since_prior_order</th>\n",
       "    </tr>\n",
       "  </thead>\n",
       "  <tbody>\n",
       "    <tr>\n",
       "      <th>0</th>\n",
       "      <td>2</td>\n",
       "      <td>33120</td>\n",
       "      <td>1</td>\n",
       "      <td>1</td>\n",
       "      <td>202279</td>\n",
       "      <td>3</td>\n",
       "      <td>8.0</td>\n",
       "    </tr>\n",
       "    <tr>\n",
       "      <th>1</th>\n",
       "      <td>2</td>\n",
       "      <td>28985</td>\n",
       "      <td>2</td>\n",
       "      <td>1</td>\n",
       "      <td>202279</td>\n",
       "      <td>3</td>\n",
       "      <td>8.0</td>\n",
       "    </tr>\n",
       "    <tr>\n",
       "      <th>2</th>\n",
       "      <td>2</td>\n",
       "      <td>9327</td>\n",
       "      <td>3</td>\n",
       "      <td>0</td>\n",
       "      <td>202279</td>\n",
       "      <td>3</td>\n",
       "      <td>8.0</td>\n",
       "    </tr>\n",
       "    <tr>\n",
       "      <th>3</th>\n",
       "      <td>2</td>\n",
       "      <td>45918</td>\n",
       "      <td>4</td>\n",
       "      <td>1</td>\n",
       "      <td>202279</td>\n",
       "      <td>3</td>\n",
       "      <td>8.0</td>\n",
       "    </tr>\n",
       "    <tr>\n",
       "      <th>4</th>\n",
       "      <td>2</td>\n",
       "      <td>30035</td>\n",
       "      <td>5</td>\n",
       "      <td>0</td>\n",
       "      <td>202279</td>\n",
       "      <td>3</td>\n",
       "      <td>8.0</td>\n",
       "    </tr>\n",
       "    <tr>\n",
       "      <th>...</th>\n",
       "      <td>...</td>\n",
       "      <td>...</td>\n",
       "      <td>...</td>\n",
       "      <td>...</td>\n",
       "      <td>...</td>\n",
       "      <td>...</td>\n",
       "      <td>...</td>\n",
       "    </tr>\n",
       "    <tr>\n",
       "      <th>32434484</th>\n",
       "      <td>3421083</td>\n",
       "      <td>39678</td>\n",
       "      <td>6</td>\n",
       "      <td>1</td>\n",
       "      <td>25247</td>\n",
       "      <td>24</td>\n",
       "      <td>21.0</td>\n",
       "    </tr>\n",
       "    <tr>\n",
       "      <th>32434485</th>\n",
       "      <td>3421083</td>\n",
       "      <td>11352</td>\n",
       "      <td>7</td>\n",
       "      <td>0</td>\n",
       "      <td>25247</td>\n",
       "      <td>24</td>\n",
       "      <td>21.0</td>\n",
       "    </tr>\n",
       "    <tr>\n",
       "      <th>32434486</th>\n",
       "      <td>3421083</td>\n",
       "      <td>4600</td>\n",
       "      <td>8</td>\n",
       "      <td>0</td>\n",
       "      <td>25247</td>\n",
       "      <td>24</td>\n",
       "      <td>21.0</td>\n",
       "    </tr>\n",
       "    <tr>\n",
       "      <th>32434487</th>\n",
       "      <td>3421083</td>\n",
       "      <td>24852</td>\n",
       "      <td>9</td>\n",
       "      <td>1</td>\n",
       "      <td>25247</td>\n",
       "      <td>24</td>\n",
       "      <td>21.0</td>\n",
       "    </tr>\n",
       "    <tr>\n",
       "      <th>32434488</th>\n",
       "      <td>3421083</td>\n",
       "      <td>5020</td>\n",
       "      <td>10</td>\n",
       "      <td>1</td>\n",
       "      <td>25247</td>\n",
       "      <td>24</td>\n",
       "      <td>21.0</td>\n",
       "    </tr>\n",
       "  </tbody>\n",
       "</table>\n",
       "<p>32434489 rows × 7 columns</p>\n",
       "</div>"
      ],
      "text/plain": [
       "          order_id  product_id  add_to_cart_order  reordered  user_id  \\\n",
       "0                2       33120                  1          1   202279   \n",
       "1                2       28985                  2          1   202279   \n",
       "2                2        9327                  3          0   202279   \n",
       "3                2       45918                  4          1   202279   \n",
       "4                2       30035                  5          0   202279   \n",
       "...            ...         ...                ...        ...      ...   \n",
       "32434484   3421083       39678                  6          1    25247   \n",
       "32434485   3421083       11352                  7          0    25247   \n",
       "32434486   3421083        4600                  8          0    25247   \n",
       "32434487   3421083       24852                  9          1    25247   \n",
       "32434488   3421083        5020                 10          1    25247   \n",
       "\n",
       "          order_number  days_since_prior_order  \n",
       "0                    3                     8.0  \n",
       "1                    3                     8.0  \n",
       "2                    3                     8.0  \n",
       "3                    3                     8.0  \n",
       "4                    3                     8.0  \n",
       "...                ...                     ...  \n",
       "32434484            24                    21.0  \n",
       "32434485            24                    21.0  \n",
       "32434486            24                    21.0  \n",
       "32434487            24                    21.0  \n",
       "32434488            24                    21.0  \n",
       "\n",
       "[32434489 rows x 7 columns]"
      ]
     },
     "execution_count": 210,
     "metadata": {},
     "output_type": "execute_result"
    }
   ],
   "source": [
    "merged"
   ]
  },
  {
   "cell_type": "markdown",
   "id": "850ce8a8-84a8-4b8b-a006-0386e2cc7506",
   "metadata": {},
   "source": [
    "**Now engineer features**"
   ]
  },
  {
   "cell_type": "code",
   "execution_count": 212,
   "id": "e8cb571d-b82b-4bdf-8f31-66f3fa03a24c",
   "metadata": {},
   "outputs": [],
   "source": [
    "# Feature: total times user ordered this product\n",
    "user_product_orders = merged.groupby(['user_id', 'product_id']).size().reset_index(name='user_product_orders')\n",
    "\n",
    "# Feature: average add-to-cart position\n",
    "avg_cart_order = merged.groupby(['user_id', 'product_id'])['add_to_cart_order'].mean().reset_index(name='avg_cart_order')\n",
    "\n",
    "# Feature: product reorder ratio\n",
    "product_reorder_ratio = merged.groupby('product_id')['reordered'].mean().reset_index(name='product_reorder_rate')\n",
    "\n",
    "# Merge all features\n",
    "features = user_product_orders.merge(avg_cart_order, on=['user_id', 'product_id'])\n",
    "features = features.merge(product_reorder_ratio, on='product_id')\n",
    "\n",
    "# Add target variable\n",
    "target = merged[['user_id', 'product_id', 'reordered']]\n",
    "target = target.drop_duplicates(subset=['user_id', 'product_id'], keep='last')  # use last order\n",
    "df = features.merge(target, on=['user_id', 'product_id'])\n"
   ]
  },
  {
   "cell_type": "code",
   "execution_count": 213,
   "id": "e94b3fae-5e60-45d8-9592-affe23072c05",
   "metadata": {},
   "outputs": [
    {
     "data": {
      "text/html": [
       "<div>\n",
       "<style scoped>\n",
       "    .dataframe tbody tr th:only-of-type {\n",
       "        vertical-align: middle;\n",
       "    }\n",
       "\n",
       "    .dataframe tbody tr th {\n",
       "        vertical-align: top;\n",
       "    }\n",
       "\n",
       "    .dataframe thead th {\n",
       "        text-align: right;\n",
       "    }\n",
       "</style>\n",
       "<table border=\"1\" class=\"dataframe\">\n",
       "  <thead>\n",
       "    <tr style=\"text-align: right;\">\n",
       "      <th></th>\n",
       "      <th>user_id</th>\n",
       "      <th>product_id</th>\n",
       "      <th>user_product_orders</th>\n",
       "      <th>avg_cart_order</th>\n",
       "      <th>product_reorder_rate</th>\n",
       "      <th>reordered</th>\n",
       "    </tr>\n",
       "  </thead>\n",
       "  <tbody>\n",
       "    <tr>\n",
       "      <th>0</th>\n",
       "      <td>1</td>\n",
       "      <td>196</td>\n",
       "      <td>10</td>\n",
       "      <td>1.400000</td>\n",
       "      <td>0.776480</td>\n",
       "      <td>1</td>\n",
       "    </tr>\n",
       "    <tr>\n",
       "      <th>1</th>\n",
       "      <td>1</td>\n",
       "      <td>10258</td>\n",
       "      <td>9</td>\n",
       "      <td>3.333333</td>\n",
       "      <td>0.713772</td>\n",
       "      <td>1</td>\n",
       "    </tr>\n",
       "    <tr>\n",
       "      <th>2</th>\n",
       "      <td>1</td>\n",
       "      <td>10326</td>\n",
       "      <td>1</td>\n",
       "      <td>5.000000</td>\n",
       "      <td>0.652009</td>\n",
       "      <td>0</td>\n",
       "    </tr>\n",
       "    <tr>\n",
       "      <th>3</th>\n",
       "      <td>1</td>\n",
       "      <td>12427</td>\n",
       "      <td>10</td>\n",
       "      <td>3.300000</td>\n",
       "      <td>0.740735</td>\n",
       "      <td>1</td>\n",
       "    </tr>\n",
       "    <tr>\n",
       "      <th>4</th>\n",
       "      <td>1</td>\n",
       "      <td>13032</td>\n",
       "      <td>3</td>\n",
       "      <td>6.333333</td>\n",
       "      <td>0.657158</td>\n",
       "      <td>1</td>\n",
       "    </tr>\n",
       "    <tr>\n",
       "      <th>...</th>\n",
       "      <td>...</td>\n",
       "      <td>...</td>\n",
       "      <td>...</td>\n",
       "      <td>...</td>\n",
       "      <td>...</td>\n",
       "      <td>...</td>\n",
       "    </tr>\n",
       "    <tr>\n",
       "      <th>13307948</th>\n",
       "      <td>206209</td>\n",
       "      <td>43961</td>\n",
       "      <td>3</td>\n",
       "      <td>8.000000</td>\n",
       "      <td>0.630583</td>\n",
       "      <td>1</td>\n",
       "    </tr>\n",
       "    <tr>\n",
       "      <th>13307949</th>\n",
       "      <td>206209</td>\n",
       "      <td>44325</td>\n",
       "      <td>1</td>\n",
       "      <td>8.000000</td>\n",
       "      <td>0.401148</td>\n",
       "      <td>0</td>\n",
       "    </tr>\n",
       "    <tr>\n",
       "      <th>13307950</th>\n",
       "      <td>206209</td>\n",
       "      <td>48370</td>\n",
       "      <td>1</td>\n",
       "      <td>8.000000</td>\n",
       "      <td>0.699288</td>\n",
       "      <td>0</td>\n",
       "    </tr>\n",
       "    <tr>\n",
       "      <th>13307951</th>\n",
       "      <td>206209</td>\n",
       "      <td>48697</td>\n",
       "      <td>1</td>\n",
       "      <td>6.000000</td>\n",
       "      <td>0.357661</td>\n",
       "      <td>0</td>\n",
       "    </tr>\n",
       "    <tr>\n",
       "      <th>13307952</th>\n",
       "      <td>206209</td>\n",
       "      <td>48742</td>\n",
       "      <td>2</td>\n",
       "      <td>9.000000</td>\n",
       "      <td>0.498549</td>\n",
       "      <td>1</td>\n",
       "    </tr>\n",
       "  </tbody>\n",
       "</table>\n",
       "<p>13307953 rows × 6 columns</p>\n",
       "</div>"
      ],
      "text/plain": [
       "          user_id  product_id  user_product_orders  avg_cart_order  \\\n",
       "0               1         196                   10        1.400000   \n",
       "1               1       10258                    9        3.333333   \n",
       "2               1       10326                    1        5.000000   \n",
       "3               1       12427                   10        3.300000   \n",
       "4               1       13032                    3        6.333333   \n",
       "...           ...         ...                  ...             ...   \n",
       "13307948   206209       43961                    3        8.000000   \n",
       "13307949   206209       44325                    1        8.000000   \n",
       "13307950   206209       48370                    1        8.000000   \n",
       "13307951   206209       48697                    1        6.000000   \n",
       "13307952   206209       48742                    2        9.000000   \n",
       "\n",
       "          product_reorder_rate  reordered  \n",
       "0                     0.776480          1  \n",
       "1                     0.713772          1  \n",
       "2                     0.652009          0  \n",
       "3                     0.740735          1  \n",
       "4                     0.657158          1  \n",
       "...                        ...        ...  \n",
       "13307948              0.630583          1  \n",
       "13307949              0.401148          0  \n",
       "13307950              0.699288          0  \n",
       "13307951              0.357661          0  \n",
       "13307952              0.498549          1  \n",
       "\n",
       "[13307953 rows x 6 columns]"
      ]
     },
     "execution_count": 213,
     "metadata": {},
     "output_type": "execute_result"
    }
   ],
   "source": [
    "df"
   ]
  },
  {
   "cell_type": "markdown",
   "id": "486a9706-ca63-4a44-977b-2e1886286d85",
   "metadata": {},
   "source": [
    "**Prepare Train/Test Dataset**"
   ]
  },
  {
   "cell_type": "code",
   "execution_count": 215,
   "id": "5cd7a3f3-374e-40e7-8a6a-ab02eee8f5bf",
   "metadata": {},
   "outputs": [],
   "source": [
    "from sklearn.model_selection import train_test_split\n",
    "\n",
    "X = df[['user_product_orders', 'avg_cart_order', 'product_reorder_rate']]\n",
    "y = df['reordered']\n",
    "\n",
    "X = X.fillna(0)  # handle missing values if any\n",
    "\n",
    "X_train, X_test, y_train, y_test = train_test_split(X, y, test_size=0.2, random_state=42)\n"
   ]
  },
  {
   "cell_type": "markdown",
   "id": "7654e628-b07f-4949-9ad1-81c39bf7e3c7",
   "metadata": {},
   "source": [
    "**Train a Model**"
   ]
  },
  {
   "cell_type": "code",
   "execution_count": 217,
   "id": "84ee26ac-811c-4115-834d-a84c698e2aa2",
   "metadata": {},
   "outputs": [
    {
     "data": {
      "text/html": [
       "<style>#sk-container-id-1 {\n",
       "  /* Definition of color scheme common for light and dark mode */\n",
       "  --sklearn-color-text: black;\n",
       "  --sklearn-color-line: gray;\n",
       "  /* Definition of color scheme for unfitted estimators */\n",
       "  --sklearn-color-unfitted-level-0: #fff5e6;\n",
       "  --sklearn-color-unfitted-level-1: #f6e4d2;\n",
       "  --sklearn-color-unfitted-level-2: #ffe0b3;\n",
       "  --sklearn-color-unfitted-level-3: chocolate;\n",
       "  /* Definition of color scheme for fitted estimators */\n",
       "  --sklearn-color-fitted-level-0: #f0f8ff;\n",
       "  --sklearn-color-fitted-level-1: #d4ebff;\n",
       "  --sklearn-color-fitted-level-2: #b3dbfd;\n",
       "  --sklearn-color-fitted-level-3: cornflowerblue;\n",
       "\n",
       "  /* Specific color for light theme */\n",
       "  --sklearn-color-text-on-default-background: var(--sg-text-color, var(--theme-code-foreground, var(--jp-content-font-color1, black)));\n",
       "  --sklearn-color-background: var(--sg-background-color, var(--theme-background, var(--jp-layout-color0, white)));\n",
       "  --sklearn-color-border-box: var(--sg-text-color, var(--theme-code-foreground, var(--jp-content-font-color1, black)));\n",
       "  --sklearn-color-icon: #696969;\n",
       "\n",
       "  @media (prefers-color-scheme: dark) {\n",
       "    /* Redefinition of color scheme for dark theme */\n",
       "    --sklearn-color-text-on-default-background: var(--sg-text-color, var(--theme-code-foreground, var(--jp-content-font-color1, white)));\n",
       "    --sklearn-color-background: var(--sg-background-color, var(--theme-background, var(--jp-layout-color0, #111)));\n",
       "    --sklearn-color-border-box: var(--sg-text-color, var(--theme-code-foreground, var(--jp-content-font-color1, white)));\n",
       "    --sklearn-color-icon: #878787;\n",
       "  }\n",
       "}\n",
       "\n",
       "#sk-container-id-1 {\n",
       "  color: var(--sklearn-color-text);\n",
       "}\n",
       "\n",
       "#sk-container-id-1 pre {\n",
       "  padding: 0;\n",
       "}\n",
       "\n",
       "#sk-container-id-1 input.sk-hidden--visually {\n",
       "  border: 0;\n",
       "  clip: rect(1px 1px 1px 1px);\n",
       "  clip: rect(1px, 1px, 1px, 1px);\n",
       "  height: 1px;\n",
       "  margin: -1px;\n",
       "  overflow: hidden;\n",
       "  padding: 0;\n",
       "  position: absolute;\n",
       "  width: 1px;\n",
       "}\n",
       "\n",
       "#sk-container-id-1 div.sk-dashed-wrapped {\n",
       "  border: 1px dashed var(--sklearn-color-line);\n",
       "  margin: 0 0.4em 0.5em 0.4em;\n",
       "  box-sizing: border-box;\n",
       "  padding-bottom: 0.4em;\n",
       "  background-color: var(--sklearn-color-background);\n",
       "}\n",
       "\n",
       "#sk-container-id-1 div.sk-container {\n",
       "  /* jupyter's `normalize.less` sets `[hidden] { display: none; }`\n",
       "     but bootstrap.min.css set `[hidden] { display: none !important; }`\n",
       "     so we also need the `!important` here to be able to override the\n",
       "     default hidden behavior on the sphinx rendered scikit-learn.org.\n",
       "     See: https://github.com/scikit-learn/scikit-learn/issues/21755 */\n",
       "  display: inline-block !important;\n",
       "  position: relative;\n",
       "}\n",
       "\n",
       "#sk-container-id-1 div.sk-text-repr-fallback {\n",
       "  display: none;\n",
       "}\n",
       "\n",
       "div.sk-parallel-item,\n",
       "div.sk-serial,\n",
       "div.sk-item {\n",
       "  /* draw centered vertical line to link estimators */\n",
       "  background-image: linear-gradient(var(--sklearn-color-text-on-default-background), var(--sklearn-color-text-on-default-background));\n",
       "  background-size: 2px 100%;\n",
       "  background-repeat: no-repeat;\n",
       "  background-position: center center;\n",
       "}\n",
       "\n",
       "/* Parallel-specific style estimator block */\n",
       "\n",
       "#sk-container-id-1 div.sk-parallel-item::after {\n",
       "  content: \"\";\n",
       "  width: 100%;\n",
       "  border-bottom: 2px solid var(--sklearn-color-text-on-default-background);\n",
       "  flex-grow: 1;\n",
       "}\n",
       "\n",
       "#sk-container-id-1 div.sk-parallel {\n",
       "  display: flex;\n",
       "  align-items: stretch;\n",
       "  justify-content: center;\n",
       "  background-color: var(--sklearn-color-background);\n",
       "  position: relative;\n",
       "}\n",
       "\n",
       "#sk-container-id-1 div.sk-parallel-item {\n",
       "  display: flex;\n",
       "  flex-direction: column;\n",
       "}\n",
       "\n",
       "#sk-container-id-1 div.sk-parallel-item:first-child::after {\n",
       "  align-self: flex-end;\n",
       "  width: 50%;\n",
       "}\n",
       "\n",
       "#sk-container-id-1 div.sk-parallel-item:last-child::after {\n",
       "  align-self: flex-start;\n",
       "  width: 50%;\n",
       "}\n",
       "\n",
       "#sk-container-id-1 div.sk-parallel-item:only-child::after {\n",
       "  width: 0;\n",
       "}\n",
       "\n",
       "/* Serial-specific style estimator block */\n",
       "\n",
       "#sk-container-id-1 div.sk-serial {\n",
       "  display: flex;\n",
       "  flex-direction: column;\n",
       "  align-items: center;\n",
       "  background-color: var(--sklearn-color-background);\n",
       "  padding-right: 1em;\n",
       "  padding-left: 1em;\n",
       "}\n",
       "\n",
       "\n",
       "/* Toggleable style: style used for estimator/Pipeline/ColumnTransformer box that is\n",
       "clickable and can be expanded/collapsed.\n",
       "- Pipeline and ColumnTransformer use this feature and define the default style\n",
       "- Estimators will overwrite some part of the style using the `sk-estimator` class\n",
       "*/\n",
       "\n",
       "/* Pipeline and ColumnTransformer style (default) */\n",
       "\n",
       "#sk-container-id-1 div.sk-toggleable {\n",
       "  /* Default theme specific background. It is overwritten whether we have a\n",
       "  specific estimator or a Pipeline/ColumnTransformer */\n",
       "  background-color: var(--sklearn-color-background);\n",
       "}\n",
       "\n",
       "/* Toggleable label */\n",
       "#sk-container-id-1 label.sk-toggleable__label {\n",
       "  cursor: pointer;\n",
       "  display: block;\n",
       "  width: 100%;\n",
       "  margin-bottom: 0;\n",
       "  padding: 0.5em;\n",
       "  box-sizing: border-box;\n",
       "  text-align: center;\n",
       "}\n",
       "\n",
       "#sk-container-id-1 label.sk-toggleable__label-arrow:before {\n",
       "  /* Arrow on the left of the label */\n",
       "  content: \"▸\";\n",
       "  float: left;\n",
       "  margin-right: 0.25em;\n",
       "  color: var(--sklearn-color-icon);\n",
       "}\n",
       "\n",
       "#sk-container-id-1 label.sk-toggleable__label-arrow:hover:before {\n",
       "  color: var(--sklearn-color-text);\n",
       "}\n",
       "\n",
       "/* Toggleable content - dropdown */\n",
       "\n",
       "#sk-container-id-1 div.sk-toggleable__content {\n",
       "  max-height: 0;\n",
       "  max-width: 0;\n",
       "  overflow: hidden;\n",
       "  text-align: left;\n",
       "  /* unfitted */\n",
       "  background-color: var(--sklearn-color-unfitted-level-0);\n",
       "}\n",
       "\n",
       "#sk-container-id-1 div.sk-toggleable__content.fitted {\n",
       "  /* fitted */\n",
       "  background-color: var(--sklearn-color-fitted-level-0);\n",
       "}\n",
       "\n",
       "#sk-container-id-1 div.sk-toggleable__content pre {\n",
       "  margin: 0.2em;\n",
       "  border-radius: 0.25em;\n",
       "  color: var(--sklearn-color-text);\n",
       "  /* unfitted */\n",
       "  background-color: var(--sklearn-color-unfitted-level-0);\n",
       "}\n",
       "\n",
       "#sk-container-id-1 div.sk-toggleable__content.fitted pre {\n",
       "  /* unfitted */\n",
       "  background-color: var(--sklearn-color-fitted-level-0);\n",
       "}\n",
       "\n",
       "#sk-container-id-1 input.sk-toggleable__control:checked~div.sk-toggleable__content {\n",
       "  /* Expand drop-down */\n",
       "  max-height: 200px;\n",
       "  max-width: 100%;\n",
       "  overflow: auto;\n",
       "}\n",
       "\n",
       "#sk-container-id-1 input.sk-toggleable__control:checked~label.sk-toggleable__label-arrow:before {\n",
       "  content: \"▾\";\n",
       "}\n",
       "\n",
       "/* Pipeline/ColumnTransformer-specific style */\n",
       "\n",
       "#sk-container-id-1 div.sk-label input.sk-toggleable__control:checked~label.sk-toggleable__label {\n",
       "  color: var(--sklearn-color-text);\n",
       "  background-color: var(--sklearn-color-unfitted-level-2);\n",
       "}\n",
       "\n",
       "#sk-container-id-1 div.sk-label.fitted input.sk-toggleable__control:checked~label.sk-toggleable__label {\n",
       "  background-color: var(--sklearn-color-fitted-level-2);\n",
       "}\n",
       "\n",
       "/* Estimator-specific style */\n",
       "\n",
       "/* Colorize estimator box */\n",
       "#sk-container-id-1 div.sk-estimator input.sk-toggleable__control:checked~label.sk-toggleable__label {\n",
       "  /* unfitted */\n",
       "  background-color: var(--sklearn-color-unfitted-level-2);\n",
       "}\n",
       "\n",
       "#sk-container-id-1 div.sk-estimator.fitted input.sk-toggleable__control:checked~label.sk-toggleable__label {\n",
       "  /* fitted */\n",
       "  background-color: var(--sklearn-color-fitted-level-2);\n",
       "}\n",
       "\n",
       "#sk-container-id-1 div.sk-label label.sk-toggleable__label,\n",
       "#sk-container-id-1 div.sk-label label {\n",
       "  /* The background is the default theme color */\n",
       "  color: var(--sklearn-color-text-on-default-background);\n",
       "}\n",
       "\n",
       "/* On hover, darken the color of the background */\n",
       "#sk-container-id-1 div.sk-label:hover label.sk-toggleable__label {\n",
       "  color: var(--sklearn-color-text);\n",
       "  background-color: var(--sklearn-color-unfitted-level-2);\n",
       "}\n",
       "\n",
       "/* Label box, darken color on hover, fitted */\n",
       "#sk-container-id-1 div.sk-label.fitted:hover label.sk-toggleable__label.fitted {\n",
       "  color: var(--sklearn-color-text);\n",
       "  background-color: var(--sklearn-color-fitted-level-2);\n",
       "}\n",
       "\n",
       "/* Estimator label */\n",
       "\n",
       "#sk-container-id-1 div.sk-label label {\n",
       "  font-family: monospace;\n",
       "  font-weight: bold;\n",
       "  display: inline-block;\n",
       "  line-height: 1.2em;\n",
       "}\n",
       "\n",
       "#sk-container-id-1 div.sk-label-container {\n",
       "  text-align: center;\n",
       "}\n",
       "\n",
       "/* Estimator-specific */\n",
       "#sk-container-id-1 div.sk-estimator {\n",
       "  font-family: monospace;\n",
       "  border: 1px dotted var(--sklearn-color-border-box);\n",
       "  border-radius: 0.25em;\n",
       "  box-sizing: border-box;\n",
       "  margin-bottom: 0.5em;\n",
       "  /* unfitted */\n",
       "  background-color: var(--sklearn-color-unfitted-level-0);\n",
       "}\n",
       "\n",
       "#sk-container-id-1 div.sk-estimator.fitted {\n",
       "  /* fitted */\n",
       "  background-color: var(--sklearn-color-fitted-level-0);\n",
       "}\n",
       "\n",
       "/* on hover */\n",
       "#sk-container-id-1 div.sk-estimator:hover {\n",
       "  /* unfitted */\n",
       "  background-color: var(--sklearn-color-unfitted-level-2);\n",
       "}\n",
       "\n",
       "#sk-container-id-1 div.sk-estimator.fitted:hover {\n",
       "  /* fitted */\n",
       "  background-color: var(--sklearn-color-fitted-level-2);\n",
       "}\n",
       "\n",
       "/* Specification for estimator info (e.g. \"i\" and \"?\") */\n",
       "\n",
       "/* Common style for \"i\" and \"?\" */\n",
       "\n",
       ".sk-estimator-doc-link,\n",
       "a:link.sk-estimator-doc-link,\n",
       "a:visited.sk-estimator-doc-link {\n",
       "  float: right;\n",
       "  font-size: smaller;\n",
       "  line-height: 1em;\n",
       "  font-family: monospace;\n",
       "  background-color: var(--sklearn-color-background);\n",
       "  border-radius: 1em;\n",
       "  height: 1em;\n",
       "  width: 1em;\n",
       "  text-decoration: none !important;\n",
       "  margin-left: 1ex;\n",
       "  /* unfitted */\n",
       "  border: var(--sklearn-color-unfitted-level-1) 1pt solid;\n",
       "  color: var(--sklearn-color-unfitted-level-1);\n",
       "}\n",
       "\n",
       ".sk-estimator-doc-link.fitted,\n",
       "a:link.sk-estimator-doc-link.fitted,\n",
       "a:visited.sk-estimator-doc-link.fitted {\n",
       "  /* fitted */\n",
       "  border: var(--sklearn-color-fitted-level-1) 1pt solid;\n",
       "  color: var(--sklearn-color-fitted-level-1);\n",
       "}\n",
       "\n",
       "/* On hover */\n",
       "div.sk-estimator:hover .sk-estimator-doc-link:hover,\n",
       ".sk-estimator-doc-link:hover,\n",
       "div.sk-label-container:hover .sk-estimator-doc-link:hover,\n",
       ".sk-estimator-doc-link:hover {\n",
       "  /* unfitted */\n",
       "  background-color: var(--sklearn-color-unfitted-level-3);\n",
       "  color: var(--sklearn-color-background);\n",
       "  text-decoration: none;\n",
       "}\n",
       "\n",
       "div.sk-estimator.fitted:hover .sk-estimator-doc-link.fitted:hover,\n",
       ".sk-estimator-doc-link.fitted:hover,\n",
       "div.sk-label-container:hover .sk-estimator-doc-link.fitted:hover,\n",
       ".sk-estimator-doc-link.fitted:hover {\n",
       "  /* fitted */\n",
       "  background-color: var(--sklearn-color-fitted-level-3);\n",
       "  color: var(--sklearn-color-background);\n",
       "  text-decoration: none;\n",
       "}\n",
       "\n",
       "/* Span, style for the box shown on hovering the info icon */\n",
       ".sk-estimator-doc-link span {\n",
       "  display: none;\n",
       "  z-index: 9999;\n",
       "  position: relative;\n",
       "  font-weight: normal;\n",
       "  right: .2ex;\n",
       "  padding: .5ex;\n",
       "  margin: .5ex;\n",
       "  width: min-content;\n",
       "  min-width: 20ex;\n",
       "  max-width: 50ex;\n",
       "  color: var(--sklearn-color-text);\n",
       "  box-shadow: 2pt 2pt 4pt #999;\n",
       "  /* unfitted */\n",
       "  background: var(--sklearn-color-unfitted-level-0);\n",
       "  border: .5pt solid var(--sklearn-color-unfitted-level-3);\n",
       "}\n",
       "\n",
       ".sk-estimator-doc-link.fitted span {\n",
       "  /* fitted */\n",
       "  background: var(--sklearn-color-fitted-level-0);\n",
       "  border: var(--sklearn-color-fitted-level-3);\n",
       "}\n",
       "\n",
       ".sk-estimator-doc-link:hover span {\n",
       "  display: block;\n",
       "}\n",
       "\n",
       "/* \"?\"-specific style due to the `<a>` HTML tag */\n",
       "\n",
       "#sk-container-id-1 a.estimator_doc_link {\n",
       "  float: right;\n",
       "  font-size: 1rem;\n",
       "  line-height: 1em;\n",
       "  font-family: monospace;\n",
       "  background-color: var(--sklearn-color-background);\n",
       "  border-radius: 1rem;\n",
       "  height: 1rem;\n",
       "  width: 1rem;\n",
       "  text-decoration: none;\n",
       "  /* unfitted */\n",
       "  color: var(--sklearn-color-unfitted-level-1);\n",
       "  border: var(--sklearn-color-unfitted-level-1) 1pt solid;\n",
       "}\n",
       "\n",
       "#sk-container-id-1 a.estimator_doc_link.fitted {\n",
       "  /* fitted */\n",
       "  border: var(--sklearn-color-fitted-level-1) 1pt solid;\n",
       "  color: var(--sklearn-color-fitted-level-1);\n",
       "}\n",
       "\n",
       "/* On hover */\n",
       "#sk-container-id-1 a.estimator_doc_link:hover {\n",
       "  /* unfitted */\n",
       "  background-color: var(--sklearn-color-unfitted-level-3);\n",
       "  color: var(--sklearn-color-background);\n",
       "  text-decoration: none;\n",
       "}\n",
       "\n",
       "#sk-container-id-1 a.estimator_doc_link.fitted:hover {\n",
       "  /* fitted */\n",
       "  background-color: var(--sklearn-color-fitted-level-3);\n",
       "}\n",
       "</style><div id=\"sk-container-id-1\" class=\"sk-top-container\"><div class=\"sk-text-repr-fallback\"><pre>RandomForestClassifier(random_state=42)</pre><b>In a Jupyter environment, please rerun this cell to show the HTML representation or trust the notebook. <br />On GitHub, the HTML representation is unable to render, please try loading this page with nbviewer.org.</b></div><div class=\"sk-container\" hidden><div class=\"sk-item\"><div class=\"sk-estimator fitted sk-toggleable\"><input class=\"sk-toggleable__control sk-hidden--visually\" id=\"sk-estimator-id-1\" type=\"checkbox\" checked><label for=\"sk-estimator-id-1\" class=\"sk-toggleable__label fitted sk-toggleable__label-arrow fitted\">&nbsp;&nbsp;RandomForestClassifier<a class=\"sk-estimator-doc-link fitted\" rel=\"noreferrer\" target=\"_blank\" href=\"https://scikit-learn.org/1.4/modules/generated/sklearn.ensemble.RandomForestClassifier.html\">?<span>Documentation for RandomForestClassifier</span></a><span class=\"sk-estimator-doc-link fitted\">i<span>Fitted</span></span></label><div class=\"sk-toggleable__content fitted\"><pre>RandomForestClassifier(random_state=42)</pre></div> </div></div></div></div>"
      ],
      "text/plain": [
       "RandomForestClassifier(random_state=42)"
      ]
     },
     "execution_count": 217,
     "metadata": {},
     "output_type": "execute_result"
    }
   ],
   "source": [
    "from sklearn.ensemble import RandomForestClassifier\n",
    "\n",
    "model = RandomForestClassifier(n_estimators=100, random_state=42)\n",
    "model.fit(X_train, y_train)"
   ]
  },
  {
   "cell_type": "markdown",
   "id": "f65f716c-3606-4fa0-9f78-66b2e18d2c31",
   "metadata": {},
   "source": [
    "**Evaluate the Model**"
   ]
  },
  {
   "cell_type": "code",
   "execution_count": 219,
   "id": "1534545d-9b8b-4a5f-ae69-b161c9ead31b",
   "metadata": {},
   "outputs": [
    {
     "name": "stdout",
     "output_type": "stream",
     "text": [
      "[[1726692  227932]\n",
      " [ 164985  541982]]\n",
      "              precision    recall  f1-score   support\n",
      "\n",
      "           0       0.91      0.88      0.90   1954624\n",
      "           1       0.70      0.77      0.73    706967\n",
      "\n",
      "    accuracy                           0.85   2661591\n",
      "   macro avg       0.81      0.83      0.82   2661591\n",
      "weighted avg       0.86      0.85      0.85   2661591\n",
      "\n"
     ]
    }
   ],
   "source": [
    "from sklearn.metrics import classification_report, confusion_matrix\n",
    "\n",
    "y_pred = model.predict(X_test)\n",
    "\n",
    "print(confusion_matrix(y_test, y_pred))\n",
    "print(classification_report(y_test, y_pred))\n"
   ]
  },
  {
   "cell_type": "markdown",
   "id": "a5f6bcd9-f1af-4cdc-82e7-838816c2bb0f",
   "metadata": {},
   "source": [
    "**Interpret Results**"
   ]
  },
  {
   "cell_type": "markdown",
   "id": "0e2454f3-fb83-48c0-a75f-9df6bfdbba92",
   "metadata": {},
   "source": [
    "Look for:\n",
    "\n",
    "Precision: Of all predicted reorders, how many were correct?\n",
    "Precision : 0.91\n",
    "\n",
    "Recall: Of all actual reorders, how many did we catch?\n",
    "Recall : 0.88\n",
    "\n",
    "F1-score: Balance of both.\n",
    "\n",
    "F1-Score for reorder is 0.90\n",
    "F1-Score for firstOrder is 0.73"
   ]
  },
  {
   "cell_type": "code",
   "execution_count": 222,
   "id": "e9bf35b5-b8a7-4a91-b450-344bcfad455b",
   "metadata": {},
   "outputs": [
    {
     "data": {
      "image/png": "[encoded data removed]",
      "text/plain": [
       "<Figure size 640x480 with 1 Axes>"
      ]
     },
     "metadata": {},
     "output_type": "display_data"
    }
   ],
   "source": [
    "importances = pd.Series(model.feature_importances_, index=X.columns)\n",
    "importances.sort_values().plot(kind='barh')\n",
    "plt.title(\"Feature Importance\")\n",
    "plt.show()"
   ]
  },
  {
   "cell_type": "markdown",
   "id": "648c2553-ad7b-4177-b38f-2df41bd23d8d",
   "metadata": {},
   "source": [
    "Trained a machine learning model to predict product reorders using features like user-product frequency and product reorder rate. Achieved 0.88% precision and 0.91% recall using a Random Forest model.\n",
    "\n"
   ]
  },
  {
   "cell_type": "markdown",
   "id": "8e245412-ea85-4d03-96fc-29d3848c3c7d",
   "metadata": {},
   "source": [
    "**Model Evaluation: Random Forest Classifier**\n",
    "\n",
    "To predict whether a product will be reordered, we trained a Random Forest Classifier on user and product-level features. The model performed well on a large test set of over 2.6 million predictions. Below are the key performance metrics:\n",
    "\n",
    "Accuracy: 85%\n",
    "\n",
    "Precision:\n",
    "\n",
    "Class 0 (Not Reordered): 91%\n",
    "\n",
    "Class 1 (Reordered): 70%\n",
    "\n",
    "Recall:\n",
    "\n",
    "Class 0: 88%\n",
    "\n",
    "Class 1: 77%\n",
    "\n",
    "F1-Score:\n",
    "\n",
    "Class 0: 90%\n",
    "\n",
    "Class 1: 73%\n",
    "\n",
    "🔍 Insights:\n",
    "\n",
    "The model is highly accurate in predicting whether a product will be reordered, especially for non-reordered items.\n",
    "\n",
    "It has a balanced performance with good recall for reordered items, which is critical in identifying products likely to be bought again.\n",
    "\n",
    "The F1-score of 73% for reordered products shows strong capability in capturing reorder behavior, which can support personalized recommendations or inventory planning.\n",
    "\n"
   ]
  },
  {
   "cell_type": "code",
   "execution_count": null,
   "id": "10afa0ce-bed0-4a0c-81ce-c0a362058b90",
   "metadata": {},
   "outputs": [],
   "source": []
  }
 ],
 "metadata": {
  "kernelspec": {
   "display_name": "Python 3 (ipykernel)",
   "language": "python",
   "name": "python3"
  },
  "language_info": {
   "codemirror_mode": {
    "name": "ipython",
    "version": 3
   },
   "file_extension": ".py",
   "mimetype": "text/x-python",
   "name": "python",
   "nbconvert_exporter": "python",
   "pygments_lexer": "ipython3",
   "version": "3.12.4"
  }
 },
 "nbformat": 4,
 "nbformat_minor": 5
}
